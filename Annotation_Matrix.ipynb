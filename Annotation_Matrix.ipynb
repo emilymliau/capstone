{
 "cells": [
  {
   "cell_type": "markdown",
   "id": "043fd7c7-2af1-40fd-bf26-e77a050b466c",
   "metadata": {},
   "source": [
    "# Import Libraries"
   ]
  },
  {
   "cell_type": "code",
   "execution_count": 2,
   "id": "3aa4b451-0a1f-4775-a78a-419ca450578d",
   "metadata": {},
   "outputs": [],
   "source": [
    "import pandas as pd\n",
    "import numpy as np\n",
    "import matplotlib.pyplot as plt\n",
    "import seaborn as sns"
   ]
  },
  {
   "cell_type": "markdown",
   "id": "ad197517-a887-4e69-a7f0-8a12100634ce",
   "metadata": {
    "jp-MarkdownHeadingCollapsed": true
   },
   "source": [
    "# Import Bed & GWAS Files"
   ]
  },
  {
   "cell_type": "code",
   "execution_count": 2,
   "id": "49d70c35-d7a7-49bd-a5ac-4b35109dee9e",
   "metadata": {},
   "outputs": [],
   "source": [
    "e001 = pd.read_csv('Data/BedGraph/Roadmap_E001.bedGraph', sep='\\t', header=None)\n",
    "e002 = pd.read_csv('Data/BedGraph/Roadmap_E002.bedGraph', sep='\\t', header=None)\n",
    "e003 = pd.read_csv('Data/BedGraph/Roadmap_E003.bedGraph', sep='\\t', header=None)\n",
    "e004 = pd.read_csv('Data/BedGraph/Roadmap_E004.bedGraph', sep='\\t', header=None)\n",
    "e005 = pd.read_csv('Data/BedGraph/Roadmap_E005.bedGraph', sep='\\t', header=None)\n",
    "e006 = pd.read_csv('Data/BedGraph/Roadmap_E006.bedGraph', sep='\\t', header=None)\n",
    "e007 = pd.read_csv('Data/BedGraph/Roadmap_E007.bedGraph', sep='\\t', header=None)\n",
    "e008 = pd.read_csv('Data/BedGraph/Roadmap_E008.bedGraph', sep='\\t', header=None)\n",
    "e009 = pd.read_csv('Data/BedGraph/Roadmap_E009.bedGraph', sep='\\t', header=None)\n",
    "e010 = pd.read_csv('Data/BedGraph/Roadmap_E010.bedGraph', sep='\\t', header=None)\n",
    "e011 = pd.read_csv('Data/BedGraph/Roadmap_E011.bedGraph', sep='\\t', header=None)\n",
    "e012 = pd.read_csv('Data/BedGraph/Roadmap_E012.bedGraph', sep='\\t', header=None)\n",
    "e013 = pd.read_csv('Data/BedGraph/Roadmap_E013.bedGraph', sep='\\t', header=None)\n",
    "e014 = pd.read_csv('Data/BedGraph/Roadmap_E014.bedGraph', sep='\\t', header=None)\n",
    "e015 = pd.read_csv('Data/BedGraph/Roadmap_E015.bedGraph', sep='\\t', header=None)\n",
    "e016 = pd.read_csv('Data/BedGraph/Roadmap_E016.bedGraph', sep='\\t', header=None)\n",
    "e017 = pd.read_csv('Data/BedGraph/Roadmap_E017.bedGraph', sep='\\t', header=None)\n",
    "e018 = pd.read_csv('Data/BedGraph/Roadmap_E018.bedGraph', sep='\\t', header=None)\n",
    "e019 = pd.read_csv('Data/BedGraph/Roadmap_E019.bedGraph', sep='\\t', header=None)\n",
    "e020 = pd.read_csv('Data/BedGraph/Roadmap_E020.bedGraph', sep='\\t', header=None)"
   ]
  },
  {
   "cell_type": "code",
   "execution_count": 3,
   "id": "dfd70483-a9fa-40d1-8e2e-a15733f7a3fa",
   "metadata": {},
   "outputs": [],
   "source": [
    "e021 = pd.read_csv('Data/BedGraph/Roadmap_E021.bedGraph', sep='\\t', header=None)\n",
    "e022 = pd.read_csv('Data/BedGraph/Roadmap_E022.bedGraph', sep='\\t', header=None)\n",
    "e023 = pd.read_csv('Data/BedGraph/Roadmap_E023.bedGraph', sep='\\t', header=None)\n",
    "e024 = pd.read_csv('Data/BedGraph/Roadmap_E024.bedGraph', sep='\\t', header=None)\n",
    "e025 = pd.read_csv('Data/BedGraph/Roadmap_E025.bedGraph', sep='\\t', header=None)\n",
    "e026 = pd.read_csv('Data/BedGraph/Roadmap_E026.bedGraph', sep='\\t', header=None)\n",
    "e027 = pd.read_csv('Data/BedGraph/Roadmap_E027.bedGraph', sep='\\t', header=None)\n",
    "e028 = pd.read_csv('Data/BedGraph/Roadmap_E028.bedGraph', sep='\\t', header=None)\n",
    "e029 = pd.read_csv('Data/BedGraph/Roadmap_E029.bedGraph', sep='\\t', header=None)\n",
    "e030 = pd.read_csv('Data/BedGraph/Roadmap_E030.bedGraph', sep='\\t', header=None)\n",
    "e031 = pd.read_csv('Data/BedGraph/Roadmap_E031.bedGraph', sep='\\t', header=None)\n",
    "e032 = pd.read_csv('Data/BedGraph/Roadmap_E032.bedGraph', sep='\\t', header=None)\n",
    "e033 = pd.read_csv('Data/BedGraph/Roadmap_E033.bedGraph', sep='\\t', header=None)\n",
    "e034 = pd.read_csv('Data/BedGraph/Roadmap_E034.bedGraph', sep='\\t', header=None)\n",
    "e035 = pd.read_csv('Data/BedGraph/Roadmap_E035.bedGraph', sep='\\t', header=None)\n",
    "e036 = pd.read_csv('Data/BedGraph/Roadmap_E036.bedGraph', sep='\\t', header=None)\n",
    "e037 = pd.read_csv('Data/BedGraph/Roadmap_E037.bedGraph', sep='\\t', header=None)\n",
    "e038 = pd.read_csv('Data/BedGraph/Roadmap_E038.bedGraph', sep='\\t', header=None)\n",
    "e039 = pd.read_csv('Data/BedGraph/Roadmap_E039.bedGraph', sep='\\t', header=None)\n",
    "e040 = pd.read_csv('Data/BedGraph/Roadmap_E040.bedGraph', sep='\\t', header=None)"
   ]
  },
  {
   "cell_type": "code",
   "execution_count": 4,
   "id": "05500661-9532-488a-b382-6d9e314f1795",
   "metadata": {},
   "outputs": [],
   "source": [
    "e041 = pd.read_csv('Data/BedGraph/Roadmap_E041.bedGraph', sep='\\t', header=None)\n",
    "e042 = pd.read_csv('Data/BedGraph/Roadmap_E042.bedGraph', sep='\\t', header=None)\n",
    "e043 = pd.read_csv('Data/BedGraph/Roadmap_E043.bedGraph', sep='\\t', header=None)\n",
    "e044 = pd.read_csv('Data/BedGraph/Roadmap_E044.bedGraph', sep='\\t', header=None)\n",
    "e045 = pd.read_csv('Data/BedGraph/Roadmap_E045.bedGraph', sep='\\t', header=None)\n",
    "e046 = pd.read_csv('Data/BedGraph/Roadmap_E046.bedGraph', sep='\\t', header=None)\n",
    "e047 = pd.read_csv('Data/BedGraph/Roadmap_E047.bedGraph', sep='\\t', header=None)\n",
    "e048 = pd.read_csv('Data/BedGraph/Roadmap_E048.bedGraph', sep='\\t', header=None)\n",
    "e049 = pd.read_csv('Data/BedGraph/Roadmap_E049.bedGraph', sep='\\t', header=None)\n",
    "e050 = pd.read_csv('Data/BedGraph/Roadmap_E050.bedGraph', sep='\\t', header=None)\n",
    "e051 = pd.read_csv('Data/BedGraph/Roadmap_E051.bedGraph', sep='\\t', header=None)\n",
    "e052 = pd.read_csv('Data/BedGraph/Roadmap_E052.bedGraph', sep='\\t', header=None)\n",
    "e053 = pd.read_csv('Data/BedGraph/Roadmap_E053.bedGraph', sep='\\t', header=None)\n",
    "e054 = pd.read_csv('Data/BedGraph/Roadmap_E054.bedGraph', sep='\\t', header=None)\n",
    "e055 = pd.read_csv('Data/BedGraph/Roadmap_E055.bedGraph', sep='\\t', header=None)\n",
    "e056 = pd.read_csv('Data/BedGraph/Roadmap_E056.bedGraph', sep='\\t', header=None)\n",
    "e057 = pd.read_csv('Data/BedGraph/Roadmap_E057.bedGraph', sep='\\t', header=None)\n",
    "e058 = pd.read_csv('Data/BedGraph/Roadmap_E058.bedGraph', sep='\\t', header=None)\n",
    "e059 = pd.read_csv('Data/BedGraph/Roadmap_E059.bedGraph', sep='\\t', header=None)\n",
    "#e060 = pd.read_csv('Data/BedGraph/Roadmap_E060.bedGraph', sep='\\t', header=None) why no 60??"
   ]
  },
  {
   "cell_type": "code",
   "execution_count": 5,
   "id": "c9eda52d-4206-44a1-af93-a2c5cf74405d",
   "metadata": {},
   "outputs": [],
   "source": [
    "e061 = pd.read_csv('Data/BedGraph/Roadmap_E061.bedGraph', sep='\\t', header=None)\n",
    "e062 = pd.read_csv('Data/BedGraph/Roadmap_E062.bedGraph', sep='\\t', header=None)\n",
    "e063 = pd.read_csv('Data/BedGraph/Roadmap_E063.bedGraph', sep='\\t', header=None)\n",
    "#e064 = pd.read_csv('Data/BedGraph/Roadmap_E064.bedGraph', sep='\\t', header=None) why no 64??\n",
    "e065 = pd.read_csv('Data/BedGraph/Roadmap_E065.bedGraph', sep='\\t', header=None)\n",
    "e066 = pd.read_csv('Data/BedGraph/Roadmap_E066.bedGraph', sep='\\t', header=None)\n",
    "e067 = pd.read_csv('Data/BedGraph/Roadmap_E067.bedGraph', sep='\\t', header=None)\n",
    "e068 = pd.read_csv('Data/BedGraph/Roadmap_E068.bedGraph', sep='\\t', header=None)\n",
    "e069 = pd.read_csv('Data/BedGraph/Roadmap_E069.bedGraph', sep='\\t', header=None)\n",
    "e070 = pd.read_csv('Data/BedGraph/Roadmap_E070.bedGraph', sep='\\t', header=None)\n",
    "e071 = pd.read_csv('Data/BedGraph/Roadmap_E071.bedGraph', sep='\\t', header=None)\n",
    "e072 = pd.read_csv('Data/BedGraph/Roadmap_E072.bedGraph', sep='\\t', header=None)\n",
    "e073 = pd.read_csv('Data/BedGraph/Roadmap_E073.bedGraph', sep='\\t', header=None)\n",
    "e074 = pd.read_csv('Data/BedGraph/Roadmap_E074.bedGraph', sep='\\t', header=None)\n",
    "e075 = pd.read_csv('Data/BedGraph/Roadmap_E075.bedGraph', sep='\\t', header=None)\n",
    "e076 = pd.read_csv('Data/BedGraph/Roadmap_E076.bedGraph', sep='\\t', header=None)\n",
    "e077 = pd.read_csv('Data/BedGraph/Roadmap_E077.bedGraph', sep='\\t', header=None)\n",
    "e078 = pd.read_csv('Data/BedGraph/Roadmap_E078.bedGraph', sep='\\t', header=None)\n",
    "e079 = pd.read_csv('Data/BedGraph/Roadmap_E079.bedGraph', sep='\\t', header=None)\n",
    "e080 = pd.read_csv('Data/BedGraph/Roadmap_E080.bedGraph', sep='\\t', header=None)"
   ]
  },
  {
   "cell_type": "code",
   "execution_count": 6,
   "id": "12adbdb3-3d7b-49a9-a866-00273a61a536",
   "metadata": {},
   "outputs": [],
   "source": [
    "e081 = pd.read_csv('Data/BedGraph/Roadmap_E081.bedGraph', sep='\\t', header=None)\n",
    "e082 = pd.read_csv('Data/BedGraph/Roadmap_E082.bedGraph', sep='\\t', header=None)\n",
    "e083 = pd.read_csv('Data/BedGraph/Roadmap_E083.bedGraph', sep='\\t', header=None)\n",
    "e084 = pd.read_csv('Data/BedGraph/Roadmap_E084.bedGraph', sep='\\t', header=None)\n",
    "e085 = pd.read_csv('Data/BedGraph/Roadmap_E085.bedGraph', sep='\\t', header=None)\n",
    "e086 = pd.read_csv('Data/BedGraph/Roadmap_E086.bedGraph', sep='\\t', header=None)\n",
    "e087 = pd.read_csv('Data/BedGraph/Roadmap_E087.bedGraph', sep='\\t', header=None)\n",
    "e088 = pd.read_csv('Data/BedGraph/Roadmap_E088.bedGraph', sep='\\t', header=None)\n",
    "e089 = pd.read_csv('Data/BedGraph/Roadmap_E089.bedGraph', sep='\\t', header=None)\n",
    "e090 = pd.read_csv('Data/BedGraph/Roadmap_E090.bedGraph', sep='\\t', header=None)\n",
    "e091 = pd.read_csv('Data/BedGraph/Roadmap_E091.bedGraph', sep='\\t', header=None)\n",
    "e092 = pd.read_csv('Data/BedGraph/Roadmap_E092.bedGraph', sep='\\t', header=None)\n",
    "e093 = pd.read_csv('Data/BedGraph/Roadmap_E093.bedGraph', sep='\\t', header=None)\n",
    "e094 = pd.read_csv('Data/BedGraph/Roadmap_E094.bedGraph', sep='\\t', header=None)\n",
    "e095 = pd.read_csv('Data/BedGraph/Roadmap_E095.bedGraph', sep='\\t', header=None)\n",
    "e096 = pd.read_csv('Data/BedGraph/Roadmap_E096.bedGraph', sep='\\t', header=None)\n",
    "e097 = pd.read_csv('Data/BedGraph/Roadmap_E097.bedGraph', sep='\\t', header=None)\n",
    "e098 = pd.read_csv('Data/BedGraph/Roadmap_E098.bedGraph', sep='\\t', header=None)\n",
    "e099 = pd.read_csv('Data/BedGraph/Roadmap_E099.bedGraph', sep='\\t', header=None)\n",
    "e100 = pd.read_csv('Data/BedGraph/Roadmap_E100.bedGraph', sep='\\t', header=None)"
   ]
  },
  {
   "cell_type": "code",
   "execution_count": 7,
   "id": "01ef3f20-1509-4a78-8e99-c71746e4b870",
   "metadata": {},
   "outputs": [],
   "source": [
    "e101 = pd.read_csv('Data/BedGraph/Roadmap_E101.bedGraph', sep='\\t', header=None)\n",
    "e102 = pd.read_csv('Data/BedGraph/Roadmap_E102.bedGraph', sep='\\t', header=None)\n",
    "e103 = pd.read_csv('Data/BedGraph/Roadmap_E103.bedGraph', sep='\\t', header=None)\n",
    "e104 = pd.read_csv('Data/BedGraph/Roadmap_E104.bedGraph', sep='\\t', header=None)\n",
    "e105 = pd.read_csv('Data/BedGraph/Roadmap_E105.bedGraph', sep='\\t', header=None)\n",
    "e106 = pd.read_csv('Data/BedGraph/Roadmap_E106.bedGraph', sep='\\t', header=None)\n",
    "e107 = pd.read_csv('Data/BedGraph/Roadmap_E107.bedGraph', sep='\\t', header=None)\n",
    "e108 = pd.read_csv('Data/BedGraph/Roadmap_E108.bedGraph', sep='\\t', header=None)\n",
    "e109 = pd.read_csv('Data/BedGraph/Roadmap_E109.bedGraph', sep='\\t', header=None)\n",
    "e110 = pd.read_csv('Data/BedGraph/Roadmap_E110.bedGraph', sep='\\t', header=None)\n",
    "e111 = pd.read_csv('Data/BedGraph/Roadmap_E111.bedGraph', sep='\\t', header=None)\n",
    "e112 = pd.read_csv('Data/BedGraph/Roadmap_E112.bedGraph', sep='\\t', header=None)\n",
    "e113 = pd.read_csv('Data/BedGraph/Roadmap_E113.bedGraph', sep='\\t', header=None)\n",
    "e114 = pd.read_csv('Data/BedGraph/Roadmap_E114.bedGraph', sep='\\t', header=None)\n",
    "e115 = pd.read_csv('Data/BedGraph/Roadmap_E115.bedGraph', sep='\\t', header=None)\n",
    "e116 = pd.read_csv('Data/BedGraph/Roadmap_E116.bedGraph', sep='\\t', header=None)\n",
    "e117 = pd.read_csv('Data/BedGraph/Roadmap_E117.bedGraph', sep='\\t', header=None)\n",
    "e118 = pd.read_csv('Data/BedGraph/Roadmap_E118.bedGraph', sep='\\t', header=None)\n",
    "e119 = pd.read_csv('Data/BedGraph/Roadmap_E119.bedGraph', sep='\\t', header=None)\n",
    "e120 = pd.read_csv('Data/BedGraph/Roadmap_E120.bedGraph', sep='\\t', header=None)"
   ]
  },
  {
   "cell_type": "code",
   "execution_count": 8,
   "id": "b7901b82-86d0-4c7c-ad0a-dce2dcf812e5",
   "metadata": {},
   "outputs": [],
   "source": [
    "e121 = pd.read_csv('Data/BedGraph/Roadmap_E121.bedGraph', sep='\\t', header=None)\n",
    "e122 = pd.read_csv('Data/BedGraph/Roadmap_E122.bedGraph', sep='\\t', header=None)\n",
    "e123 = pd.read_csv('Data/BedGraph/Roadmap_E123.bedGraph', sep='\\t', header=None)\n",
    "e124 = pd.read_csv('Data/BedGraph/Roadmap_E124.bedGraph', sep='\\t', header=None)\n",
    "e125 = pd.read_csv('Data/BedGraph/Roadmap_E125.bedGraph', sep='\\t', header=None)\n",
    "e126 = pd.read_csv('Data/BedGraph/Roadmap_E126.bedGraph', sep='\\t', header=None)\n",
    "e127 = pd.read_csv('Data/BedGraph/Roadmap_E127.bedGraph', sep='\\t', header=None)\n",
    "e128 = pd.read_csv('Data/BedGraph/Roadmap_E128.bedGraph', sep='\\t', header=None)\n",
    "e129 = pd.read_csv('Data/BedGraph/Roadmap_E129.bedGraph', sep='\\t', header=None)"
   ]
  },
  {
   "cell_type": "code",
   "execution_count": 9,
   "id": "3da9746e-0de3-4c03-ab6f-f1e5240baf14",
   "metadata": {},
   "outputs": [],
   "source": [
    "gwas = pd.read_csv('Data/AgeSmk.txt', sep='\\t')"
   ]
  },
  {
   "cell_type": "markdown",
   "id": "e66af2c8-69b1-438c-9e1e-a28c0bee7951",
   "metadata": {},
   "source": [
    "# Generate Annotation Matrix"
   ]
  },
  {
   "cell_type": "code",
   "execution_count": 10,
   "id": "982ba0de-7652-49b8-8408-faef523f3247",
   "metadata": {},
   "outputs": [],
   "source": [
    "annot = np.zeros((len(gwas), 127))"
   ]
  },
  {
   "cell_type": "markdown",
   "id": "cc8beac7-fed5-4544-afb6-e6b984b40798",
   "metadata": {},
   "source": [
    "## 1-20"
   ]
  },
  {
   "cell_type": "code",
   "execution_count": 11,
   "id": "c7e23986-206c-49ac-b858-1d791d5ce741",
   "metadata": {},
   "outputs": [],
   "source": [
    "e001.columns = ['CHR', 'START', 'END', 'METRIC']\n",
    "x = e001['METRIC'].quantile([0.1,0.2,0.3,0.4,0.5,0.6,0.7,0.8,0.9])\n",
    "temp = e001.loc[e001['METRIC'] > x[0.6]]\n",
    "merged = pd.merge(gwas, temp, how='inner', left_on=['CHR', 'POS'], right_on=['CHR', 'START'])\n",
    "result_df = merged[(merged['POS'] >= merged['START']) & (merged['POS'] <= merged['END'])]\n",
    "for index, row in temp.iterrows():\n",
    "    annot[index][0] = 1"
   ]
  },
  {
   "cell_type": "code",
   "execution_count": 12,
   "id": "70aa010e-9080-4b19-b067-0d03379373db",
   "metadata": {},
   "outputs": [],
   "source": [
    "e002.columns = ['CHR', 'START', 'END', 'METRIC']\n",
    "x = e002['METRIC'].quantile([0.1,0.2,0.3,0.4,0.5,0.6,0.7,0.8,0.9])\n",
    "temp = e002.loc[e002['METRIC'] > x[0.6]]\n",
    "merged = pd.merge(gwas, temp, how='inner', left_on=['CHR', 'POS'], right_on=['CHR', 'START'])\n",
    "result_df = merged[(merged['POS'] >= merged['START']) & (merged['POS'] <= merged['END'])]\n",
    "for index, row in temp.iterrows():\n",
    "    annot[index][1] = 1"
   ]
  },
  {
   "cell_type": "code",
   "execution_count": 13,
   "id": "cc968402-3dd5-4e97-95fd-53ac8b0521f6",
   "metadata": {},
   "outputs": [],
   "source": [
    "e003.columns = ['CHR', 'START', 'END', 'METRIC']\n",
    "x = e003['METRIC'].quantile([0.1,0.2,0.3,0.4,0.5,0.6,0.7,0.8,0.9])\n",
    "temp = e003.loc[e003['METRIC'] > x[0.6]]\n",
    "merged = pd.merge(gwas, temp, how='inner', left_on=['CHR', 'POS'], right_on=['CHR', 'START'])\n",
    "result_df = merged[(merged['POS'] >= merged['START']) & (merged['POS'] <= merged['END'])]\n",
    "for index, row in temp.iterrows():\n",
    "    annot[index][2] = 1"
   ]
  },
  {
   "cell_type": "code",
   "execution_count": 14,
   "id": "be747275-c5a4-4101-9f61-3eb1d86e7794",
   "metadata": {},
   "outputs": [],
   "source": [
    "e004.columns = ['CHR', 'START', 'END', 'METRIC']\n",
    "x = e004['METRIC'].quantile([0.1,0.2,0.3,0.4,0.5,0.6,0.7,0.8,0.9])\n",
    "temp = e004.loc[e004['METRIC'] > x[0.6]]\n",
    "merged = pd.merge(gwas, temp, how='inner', left_on=['CHR', 'POS'], right_on=['CHR', 'START'])\n",
    "result_df = merged[(merged['POS'] >= merged['START']) & (merged['POS'] <= merged['END'])]\n",
    "for index, row in temp.iterrows():\n",
    "    annot[index][3] = 1"
   ]
  },
  {
   "cell_type": "code",
   "execution_count": 15,
   "id": "919c93d7-d443-4f79-82e0-4e0bf495a0b4",
   "metadata": {},
   "outputs": [],
   "source": [
    "e005.columns = ['CHR', 'START', 'END', 'METRIC']\n",
    "x = e005['METRIC'].quantile([0.1,0.2,0.3,0.4,0.5,0.6,0.7,0.8,0.9])\n",
    "temp = e005.loc[e005['METRIC'] > x[0.6]]\n",
    "merged = pd.merge(gwas, temp, how='inner', left_on=['CHR', 'POS'], right_on=['CHR', 'START'])\n",
    "result_df = merged[(merged['POS'] >= merged['START']) & (merged['POS'] <= merged['END'])]\n",
    "for index, row in temp.iterrows():\n",
    "    annot[index][4] = 1"
   ]
  },
  {
   "cell_type": "code",
   "execution_count": 16,
   "id": "4973c592-2373-40d2-a681-75c17a72189f",
   "metadata": {},
   "outputs": [],
   "source": [
    "e006.columns = ['CHR', 'START', 'END', 'METRIC']\n",
    "x = e006['METRIC'].quantile([0.1,0.2,0.3,0.4,0.5,0.6,0.7,0.8,0.9])\n",
    "temp = e006.loc[e006['METRIC'] > x[0.6]]\n",
    "merged = pd.merge(gwas, temp, how='inner', left_on=['CHR', 'POS'], right_on=['CHR', 'START'])\n",
    "result_df = merged[(merged['POS'] >= merged['START']) & (merged['POS'] <= merged['END'])]\n",
    "for index, row in temp.iterrows():\n",
    "    annot[index][5] = 1"
   ]
  },
  {
   "cell_type": "code",
   "execution_count": 17,
   "id": "2dd4b758-99a1-4a80-bdbd-5d3945971ecb",
   "metadata": {},
   "outputs": [],
   "source": [
    "e007.columns = ['CHR', 'START', 'END', 'METRIC']\n",
    "x = e007['METRIC'].quantile([0.1,0.2,0.3,0.4,0.5,0.6,0.7,0.8,0.9])\n",
    "temp = e007.loc[e007['METRIC'] > x[0.6]]\n",
    "merged = pd.merge(gwas, temp, how='inner', left_on=['CHR', 'POS'], right_on=['CHR', 'START'])\n",
    "result_df = merged[(merged['POS'] >= merged['START']) & (merged['POS'] <= merged['END'])]\n",
    "for index, row in temp.iterrows():\n",
    "    annot[index][6] = 1"
   ]
  },
  {
   "cell_type": "code",
   "execution_count": 18,
   "id": "a88fcfbc-dd1e-492d-8659-2be796ed09bc",
   "metadata": {},
   "outputs": [],
   "source": [
    "e008.columns = ['CHR', 'START', 'END', 'METRIC']\n",
    "x = e008['METRIC'].quantile([0.1,0.2,0.3,0.4,0.5,0.6,0.7,0.8,0.9])\n",
    "temp = e008.loc[e008['METRIC'] > x[0.6]]\n",
    "merged = pd.merge(gwas, temp, how='inner', left_on=['CHR', 'POS'], right_on=['CHR', 'START'])\n",
    "result_df = merged[(merged['POS'] >= merged['START']) & (merged['POS'] <= merged['END'])]\n",
    "for index, row in temp.iterrows():\n",
    "    annot[index][7] = 1"
   ]
  },
  {
   "cell_type": "code",
   "execution_count": 19,
   "id": "e745daaa-92ec-43a0-beaa-dc02b4e082e7",
   "metadata": {},
   "outputs": [],
   "source": [
    "e009.columns = ['CHR', 'START', 'END', 'METRIC']\n",
    "x = e009['METRIC'].quantile([0.1,0.2,0.3,0.4,0.5,0.6,0.7,0.8,0.9])\n",
    "temp = e009.loc[e009['METRIC'] > x[0.6]]\n",
    "merged = pd.merge(gwas, temp, how='inner', left_on=['CHR', 'POS'], right_on=['CHR', 'START'])\n",
    "result_df = merged[(merged['POS'] >= merged['START']) & (merged['POS'] <= merged['END'])]\n",
    "for index, row in temp.iterrows():\n",
    "    annot[index][8] = 1"
   ]
  },
  {
   "cell_type": "code",
   "execution_count": 20,
   "id": "509e454a-eaa4-44e7-a5fc-38f7b8ae975a",
   "metadata": {},
   "outputs": [],
   "source": [
    "e010.columns = ['CHR', 'START', 'END', 'METRIC']\n",
    "x = e010['METRIC'].quantile([0.1,0.2,0.3,0.4,0.5,0.6,0.7,0.8,0.9])\n",
    "temp = e010.loc[e010['METRIC'] > x[0.6]]\n",
    "merged = pd.merge(gwas, temp, how='inner', left_on=['CHR', 'POS'], right_on=['CHR', 'START'])\n",
    "result_df = merged[(merged['POS'] >= merged['START']) & (merged['POS'] <= merged['END'])]\n",
    "for index, row in temp.iterrows():\n",
    "    annot[index][9] = 1"
   ]
  },
  {
   "cell_type": "code",
   "execution_count": 21,
   "id": "c7470834-1d7c-40c4-911e-3cb7804a6b62",
   "metadata": {},
   "outputs": [],
   "source": [
    "e011.columns = ['CHR', 'START', 'END', 'METRIC']\n",
    "x = e011['METRIC'].quantile([0.1,0.2,0.3,0.4,0.5,0.6,0.7,0.8,0.9])\n",
    "temp = e011.loc[e011['METRIC'] > x[0.6]]\n",
    "merged = pd.merge(gwas, temp, how='inner', left_on=['CHR', 'POS'], right_on=['CHR', 'START'])\n",
    "result_df = merged[(merged['POS'] >= merged['START']) & (merged['POS'] <= merged['END'])]\n",
    "for index, row in temp.iterrows():\n",
    "    annot[index][10] = 1"
   ]
  },
  {
   "cell_type": "code",
   "execution_count": 22,
   "id": "3e9dbad9-eb27-44a1-94dc-99f435cb0226",
   "metadata": {},
   "outputs": [],
   "source": [
    "e012.columns = ['CHR', 'START', 'END', 'METRIC']\n",
    "x = e012['METRIC'].quantile([0.1,0.2,0.3,0.4,0.5,0.6,0.7,0.8,0.9])\n",
    "temp = e012.loc[e012['METRIC'] > x[0.6]]\n",
    "merged = pd.merge(gwas, temp, how='inner', left_on=['CHR', 'POS'], right_on=['CHR', 'START'])\n",
    "result_df = merged[(merged['POS'] >= merged['START']) & (merged['POS'] <= merged['END'])]\n",
    "for index, row in temp.iterrows():\n",
    "    annot[index][11] = 1"
   ]
  },
  {
   "cell_type": "code",
   "execution_count": 23,
   "id": "f5155bfd-de12-4ede-8578-322e1ffb9e6b",
   "metadata": {},
   "outputs": [],
   "source": [
    "e013.columns = ['CHR', 'START', 'END', 'METRIC']\n",
    "x = e013['METRIC'].quantile([0.1,0.2,0.3,0.4,0.5,0.6,0.7,0.8,0.9])\n",
    "temp = e013.loc[e013['METRIC'] > x[0.6]]\n",
    "merged = pd.merge(gwas, temp, how='inner', left_on=['CHR', 'POS'], right_on=['CHR', 'START'])\n",
    "result_df = merged[(merged['POS'] >= merged['START']) & (merged['POS'] <= merged['END'])]\n",
    "for index, row in temp.iterrows():\n",
    "    annot[index][12] = 1"
   ]
  },
  {
   "cell_type": "code",
   "execution_count": 24,
   "id": "ad4d3482-fcc5-4f1f-a357-4c73103b0a3c",
   "metadata": {},
   "outputs": [],
   "source": [
    "e014.columns = ['CHR', 'START', 'END', 'METRIC']\n",
    "x = e014['METRIC'].quantile([0.1,0.2,0.3,0.4,0.5,0.6,0.7,0.8,0.9])\n",
    "temp = e014.loc[e014['METRIC'] > x[0.6]]\n",
    "merged = pd.merge(gwas, temp, how='inner', left_on=['CHR', 'POS'], right_on=['CHR', 'START'])\n",
    "result_df = merged[(merged['POS'] >= merged['START']) & (merged['POS'] <= merged['END'])]\n",
    "for index, row in temp.iterrows():\n",
    "    annot[index][13] = 1"
   ]
  },
  {
   "cell_type": "code",
   "execution_count": 25,
   "id": "9d16a044-6bad-4253-8ebd-1b59c96a27c3",
   "metadata": {},
   "outputs": [],
   "source": [
    "e015.columns = ['CHR', 'START', 'END', 'METRIC']\n",
    "x = e015['METRIC'].quantile([0.1,0.2,0.3,0.4,0.5,0.6,0.7,0.8,0.9])\n",
    "temp = e015.loc[e015['METRIC'] > x[0.6]]\n",
    "merged = pd.merge(gwas, temp, how='inner', left_on=['CHR', 'POS'], right_on=['CHR', 'START'])\n",
    "result_df = merged[(merged['POS'] >= merged['START']) & (merged['POS'] <= merged['END'])]\n",
    "for index, row in temp.iterrows():\n",
    "    annot[index][14] = 1"
   ]
  },
  {
   "cell_type": "code",
   "execution_count": 26,
   "id": "7b335708-f5c4-4422-9eb7-b9a3ffbc0244",
   "metadata": {},
   "outputs": [],
   "source": [
    "e016.columns = ['CHR', 'START', 'END', 'METRIC']\n",
    "x = e016['METRIC'].quantile([0.1,0.2,0.3,0.4,0.5,0.6,0.7,0.8,0.9])\n",
    "temp = e016.loc[e016['METRIC'] > x[0.6]]\n",
    "merged = pd.merge(gwas, temp, how='inner', left_on=['CHR', 'POS'], right_on=['CHR', 'START'])\n",
    "result_df = merged[(merged['POS'] >= merged['START']) & (merged['POS'] <= merged['END'])]\n",
    "for index, row in temp.iterrows():\n",
    "    annot[index][15] = 1"
   ]
  },
  {
   "cell_type": "code",
   "execution_count": 27,
   "id": "8f7c18db-9985-4f0e-bea8-071c068d22e5",
   "metadata": {},
   "outputs": [],
   "source": [
    "e017.columns = ['CHR', 'START', 'END', 'METRIC']\n",
    "x = e017['METRIC'].quantile([0.1,0.2,0.3,0.4,0.5,0.6,0.7,0.8,0.9])\n",
    "temp = e017.loc[e017['METRIC'] > x[0.6]]\n",
    "merged = pd.merge(gwas, temp, how='inner', left_on=['CHR', 'POS'], right_on=['CHR', 'START'])\n",
    "result_df = merged[(merged['POS'] >= merged['START']) & (merged['POS'] <= merged['END'])]\n",
    "for index, row in temp.iterrows():\n",
    "    annot[index][16] = 1"
   ]
  },
  {
   "cell_type": "code",
   "execution_count": 28,
   "id": "55271445-71d7-4c48-b69c-c05b84130353",
   "metadata": {},
   "outputs": [],
   "source": [
    "e018.columns = ['CHR', 'START', 'END', 'METRIC']\n",
    "x = e018['METRIC'].quantile([0.1,0.2,0.3,0.4,0.5,0.6,0.7,0.8,0.9])\n",
    "temp = e018.loc[e018['METRIC'] > x[0.6]]\n",
    "merged = pd.merge(gwas, temp, how='inner', left_on=['CHR', 'POS'], right_on=['CHR', 'START'])\n",
    "result_df = merged[(merged['POS'] >= merged['START']) & (merged['POS'] <= merged['END'])]\n",
    "for index, row in temp.iterrows():\n",
    "    annot[index][17] = 1"
   ]
  },
  {
   "cell_type": "code",
   "execution_count": 29,
   "id": "8634428c-f8a9-4f4d-a951-462459315556",
   "metadata": {},
   "outputs": [],
   "source": [
    "e019.columns = ['CHR', 'START', 'END', 'METRIC']\n",
    "x = e019['METRIC'].quantile([0.1,0.2,0.3,0.4,0.5,0.6,0.7,0.8,0.9])\n",
    "temp = e019.loc[e019['METRIC'] > x[0.6]]\n",
    "merged = pd.merge(gwas, temp, how='inner', left_on=['CHR', 'POS'], right_on=['CHR', 'START'])\n",
    "result_df = merged[(merged['POS'] >= merged['START']) & (merged['POS'] <= merged['END'])]\n",
    "for index, row in temp.iterrows():\n",
    "    annot[index][18] = 1"
   ]
  },
  {
   "cell_type": "code",
   "execution_count": 30,
   "id": "62653f90-84cc-47a3-809e-62691590a1e6",
   "metadata": {},
   "outputs": [],
   "source": [
    "e020.columns = ['CHR', 'START', 'END', 'METRIC']\n",
    "x = e020['METRIC'].quantile([0.1,0.2,0.3,0.4,0.5,0.6,0.7,0.8,0.9])\n",
    "temp = e020.loc[e020['METRIC'] > x[0.6]]\n",
    "merged = pd.merge(gwas, temp, how='inner', left_on=['CHR', 'POS'], right_on=['CHR', 'START'])\n",
    "result_df = merged[(merged['POS'] >= merged['START']) & (merged['POS'] <= merged['END'])]\n",
    "for index, row in temp.iterrows():\n",
    "    annot[index][19] = 1"
   ]
  },
  {
   "cell_type": "markdown",
   "id": "acd72516-f377-428e-812b-b7f78911bc6d",
   "metadata": {},
   "source": [
    "## 21-40"
   ]
  },
  {
   "cell_type": "code",
   "execution_count": 31,
   "id": "e9afc17c-dc95-4964-9dd3-ff26acb784e0",
   "metadata": {},
   "outputs": [],
   "source": [
    "e021.columns = ['CHR', 'START', 'END', 'METRIC']\n",
    "x = e021['METRIC'].quantile([0.1,0.2,0.3,0.4,0.5,0.6,0.7,0.8,0.9])\n",
    "temp = e021.loc[e021['METRIC'] > x[0.6]]\n",
    "merged = pd.merge(gwas, temp, how='inner', left_on=['CHR', 'POS'], right_on=['CHR', 'START'])\n",
    "result_df = merged[(merged['POS'] >= merged['START']) & (merged['POS'] <= merged['END'])]\n",
    "for index, row in temp.iterrows():\n",
    "    annot[index][20] = 1"
   ]
  },
  {
   "cell_type": "code",
   "execution_count": 32,
   "id": "2290f82f-77fe-427c-a438-123d09f903fd",
   "metadata": {},
   "outputs": [],
   "source": [
    "e022.columns = ['CHR', 'START', 'END', 'METRIC']\n",
    "x = e022['METRIC'].quantile([0.1,0.2,0.3,0.4,0.5,0.6,0.7,0.8,0.9])\n",
    "temp = e022.loc[e022['METRIC'] > x[0.6]]\n",
    "merged = pd.merge(gwas, temp, how='inner', left_on=['CHR', 'POS'], right_on=['CHR', 'START'])\n",
    "result_df = merged[(merged['POS'] >= merged['START']) & (merged['POS'] <= merged['END'])]\n",
    "for index, row in temp.iterrows():\n",
    "    annot[index][21] = 1"
   ]
  },
  {
   "cell_type": "code",
   "execution_count": 33,
   "id": "7f44b271-ae01-4f8e-9791-9acbe5bb67ad",
   "metadata": {},
   "outputs": [],
   "source": [
    "e023.columns = ['CHR', 'START', 'END', 'METRIC']\n",
    "x = e023['METRIC'].quantile([0.1,0.2,0.3,0.4,0.5,0.6,0.7,0.8,0.9])\n",
    "temp = e023.loc[e023['METRIC'] > x[0.6]]\n",
    "merged = pd.merge(gwas, temp, how='inner', left_on=['CHR', 'POS'], right_on=['CHR', 'START'])\n",
    "result_df = merged[(merged['POS'] >= merged['START']) & (merged['POS'] <= merged['END'])]\n",
    "for index, row in temp.iterrows():\n",
    "    annot[index][22] = 1"
   ]
  },
  {
   "cell_type": "code",
   "execution_count": 34,
   "id": "3b97627d-0a7b-48c1-84ba-d6ee72c3371f",
   "metadata": {},
   "outputs": [],
   "source": [
    "e024.columns = ['CHR', 'START', 'END', 'METRIC']\n",
    "x = e024['METRIC'].quantile([0.1,0.2,0.3,0.4,0.5,0.6,0.7,0.8,0.9])\n",
    "temp = e024.loc[e024['METRIC'] > x[0.6]]\n",
    "merged = pd.merge(gwas, temp, how='inner', left_on=['CHR', 'POS'], right_on=['CHR', 'START'])\n",
    "result_df = merged[(merged['POS'] >= merged['START']) & (merged['POS'] <= merged['END'])]\n",
    "for index, row in temp.iterrows():\n",
    "    annot[index][23] = 1"
   ]
  },
  {
   "cell_type": "code",
   "execution_count": 35,
   "id": "068e0954-d57e-4c60-84c5-45e1faf70d0e",
   "metadata": {},
   "outputs": [],
   "source": [
    "e025.columns = ['CHR', 'START', 'END', 'METRIC']\n",
    "x = e025['METRIC'].quantile([0.1,0.2,0.3,0.4,0.5,0.6,0.7,0.8,0.9])\n",
    "temp = e025.loc[e025['METRIC'] > x[0.6]]\n",
    "merged = pd.merge(gwas, temp, how='inner', left_on=['CHR', 'POS'], right_on=['CHR', 'START'])\n",
    "result_df = merged[(merged['POS'] >= merged['START']) & (merged['POS'] <= merged['END'])]\n",
    "for index, row in temp.iterrows():\n",
    "    annot[index][24] = 1"
   ]
  },
  {
   "cell_type": "code",
   "execution_count": 36,
   "id": "a4b8b9c4-83e6-4f99-8e76-c647f9e4a31a",
   "metadata": {},
   "outputs": [],
   "source": [
    "e026.columns = ['CHR', 'START', 'END', 'METRIC']\n",
    "x = e026['METRIC'].quantile([0.1,0.2,0.3,0.4,0.5,0.6,0.7,0.8,0.9])\n",
    "temp = e026.loc[e026['METRIC'] > x[0.6]]\n",
    "merged = pd.merge(gwas, temp, how='inner', left_on=['CHR', 'POS'], right_on=['CHR', 'START'])\n",
    "result_df = merged[(merged['POS'] >= merged['START']) & (merged['POS'] <= merged['END'])]\n",
    "for index, row in temp.iterrows():\n",
    "    annot[index][25] = 1"
   ]
  },
  {
   "cell_type": "code",
   "execution_count": 37,
   "id": "a223c9f1-5889-43f9-9d3e-28bd38fddba6",
   "metadata": {},
   "outputs": [],
   "source": [
    "e027.columns = ['CHR', 'START', 'END', 'METRIC']\n",
    "x = e027['METRIC'].quantile([0.1,0.2,0.3,0.4,0.5,0.6,0.7,0.8,0.9])\n",
    "temp = e027.loc[e027['METRIC'] > x[0.6]]\n",
    "merged = pd.merge(gwas, temp, how='inner', left_on=['CHR', 'POS'], right_on=['CHR', 'START'])\n",
    "result_df = merged[(merged['POS'] >= merged['START']) & (merged['POS'] <= merged['END'])]\n",
    "for index, row in temp.iterrows():\n",
    "    annot[index][26] = 1"
   ]
  },
  {
   "cell_type": "code",
   "execution_count": 38,
   "id": "f7db81ba-af76-40b4-bf7d-c79021ee5237",
   "metadata": {},
   "outputs": [],
   "source": [
    "e028.columns = ['CHR', 'START', 'END', 'METRIC']\n",
    "x = e028['METRIC'].quantile([0.1,0.2,0.3,0.4,0.5,0.6,0.7,0.8,0.9])\n",
    "temp = e028.loc[e028['METRIC'] > x[0.6]]\n",
    "merged = pd.merge(gwas, temp, how='inner', left_on=['CHR', 'POS'], right_on=['CHR', 'START'])\n",
    "result_df = merged[(merged['POS'] >= merged['START']) & (merged['POS'] <= merged['END'])]\n",
    "for index, row in temp.iterrows():\n",
    "    annot[index][27] = 1"
   ]
  },
  {
   "cell_type": "code",
   "execution_count": 39,
   "id": "6a60f2c3-0c72-4698-90f5-bbbb103c0d2c",
   "metadata": {},
   "outputs": [],
   "source": [
    "e029.columns = ['CHR', 'START', 'END', 'METRIC']\n",
    "x = e029['METRIC'].quantile([0.1,0.2,0.3,0.4,0.5,0.6,0.7,0.8,0.9])\n",
    "temp = e029.loc[e029['METRIC'] > x[0.6]]\n",
    "merged = pd.merge(gwas, temp, how='inner', left_on=['CHR', 'POS'], right_on=['CHR', 'START'])\n",
    "result_df = merged[(merged['POS'] >= merged['START']) & (merged['POS'] <= merged['END'])]\n",
    "for index, row in temp.iterrows():\n",
    "    annot[index][28] = 1"
   ]
  },
  {
   "cell_type": "code",
   "execution_count": 40,
   "id": "57fc6465-ea9f-4956-b3e0-0f4dd86cad96",
   "metadata": {},
   "outputs": [],
   "source": [
    "e030.columns = ['CHR', 'START', 'END', 'METRIC']\n",
    "x = e030['METRIC'].quantile([0.1,0.2,0.3,0.4,0.5,0.6,0.7,0.8,0.9])\n",
    "temp = e030.loc[e030['METRIC'] > x[0.6]]\n",
    "merged = pd.merge(gwas, temp, how='inner', left_on=['CHR', 'POS'], right_on=['CHR', 'START'])\n",
    "result_df = merged[(merged['POS'] >= merged['START']) & (merged['POS'] <= merged['END'])]\n",
    "for index, row in temp.iterrows():\n",
    "    annot[index][29] = 1"
   ]
  },
  {
   "cell_type": "code",
   "execution_count": 41,
   "id": "5d13e5b5-c752-49de-b070-2765ca564687",
   "metadata": {},
   "outputs": [],
   "source": [
    "e031.columns = ['CHR', 'START', 'END', 'METRIC']\n",
    "x = e031['METRIC'].quantile([0.1,0.2,0.3,0.4,0.5,0.6,0.7,0.8,0.9])\n",
    "temp = e031.loc[e031['METRIC'] > x[0.6]]\n",
    "merged = pd.merge(gwas, temp, how='inner', left_on=['CHR', 'POS'], right_on=['CHR', 'START'])\n",
    "result_df = merged[(merged['POS'] >= merged['START']) & (merged['POS'] <= merged['END'])]\n",
    "for index, row in temp.iterrows():\n",
    "    annot[index][30] = 1"
   ]
  },
  {
   "cell_type": "code",
   "execution_count": 42,
   "id": "ff1f70cf-4b69-43e1-bb20-0e12f43480dd",
   "metadata": {},
   "outputs": [],
   "source": [
    "e032.columns = ['CHR', 'START', 'END', 'METRIC']\n",
    "x = e032['METRIC'].quantile([0.1,0.2,0.3,0.4,0.5,0.6,0.7,0.8,0.9])\n",
    "temp = e032.loc[e032['METRIC'] > x[0.6]]\n",
    "merged = pd.merge(gwas, temp, how='inner', left_on=['CHR', 'POS'], right_on=['CHR', 'START'])\n",
    "result_df = merged[(merged['POS'] >= merged['START']) & (merged['POS'] <= merged['END'])]\n",
    "for index, row in temp.iterrows():\n",
    "    annot[index][31] = 1"
   ]
  },
  {
   "cell_type": "code",
   "execution_count": 43,
   "id": "efca2a97-56ce-493a-9ee9-6114f8c6b40f",
   "metadata": {},
   "outputs": [],
   "source": [
    "e033.columns = ['CHR', 'START', 'END', 'METRIC']\n",
    "x = e033['METRIC'].quantile([0.1,0.2,0.3,0.4,0.5,0.6,0.7,0.8,0.9])\n",
    "temp = e033.loc[e033['METRIC'] > x[0.6]]\n",
    "merged = pd.merge(gwas, temp, how='inner', left_on=['CHR', 'POS'], right_on=['CHR', 'START'])\n",
    "result_df = merged[(merged['POS'] >= merged['START']) & (merged['POS'] <= merged['END'])]\n",
    "for index, row in temp.iterrows():\n",
    "    annot[index][32] = 1"
   ]
  },
  {
   "cell_type": "code",
   "execution_count": 44,
   "id": "e6967aef-1453-41cf-8700-f3448d2b63dd",
   "metadata": {},
   "outputs": [],
   "source": [
    "e034.columns = ['CHR', 'START', 'END', 'METRIC']\n",
    "x = e034['METRIC'].quantile([0.1,0.2,0.3,0.4,0.5,0.6,0.7,0.8,0.9])\n",
    "temp = e034.loc[e034['METRIC'] > x[0.6]]\n",
    "merged = pd.merge(gwas, temp, how='inner', left_on=['CHR', 'POS'], right_on=['CHR', 'START'])\n",
    "result_df = merged[(merged['POS'] >= merged['START']) & (merged['POS'] <= merged['END'])]\n",
    "for index, row in temp.iterrows():\n",
    "    annot[index][33] = 1"
   ]
  },
  {
   "cell_type": "code",
   "execution_count": 45,
   "id": "5da42edc-05f8-4b2b-ae7d-2ba325893682",
   "metadata": {},
   "outputs": [],
   "source": [
    "e035.columns = ['CHR', 'START', 'END', 'METRIC']\n",
    "x = e035['METRIC'].quantile([0.1,0.2,0.3,0.4,0.5,0.6,0.7,0.8,0.9])\n",
    "temp = e035.loc[e035['METRIC'] > x[0.6]]\n",
    "merged = pd.merge(gwas, temp, how='inner', left_on=['CHR', 'POS'], right_on=['CHR', 'START'])\n",
    "result_df = merged[(merged['POS'] >= merged['START']) & (merged['POS'] <= merged['END'])]\n",
    "for index, row in temp.iterrows():\n",
    "    annot[index][34] = 1"
   ]
  },
  {
   "cell_type": "code",
   "execution_count": 46,
   "id": "0e4701e7-2321-4ded-9f93-de24f5931f27",
   "metadata": {},
   "outputs": [],
   "source": [
    "e036.columns = ['CHR', 'START', 'END', 'METRIC']\n",
    "x = e036['METRIC'].quantile([0.1,0.2,0.3,0.4,0.5,0.6,0.7,0.8,0.9])\n",
    "temp = e036.loc[e036['METRIC'] > x[0.6]]\n",
    "merged = pd.merge(gwas, temp, how='inner', left_on=['CHR', 'POS'], right_on=['CHR', 'START'])\n",
    "result_df = merged[(merged['POS'] >= merged['START']) & (merged['POS'] <= merged['END'])]\n",
    "for index, row in temp.iterrows():\n",
    "    annot[index][35] = 1"
   ]
  },
  {
   "cell_type": "code",
   "execution_count": 47,
   "id": "6d624766-b9d2-4497-a2e0-58b96888ed48",
   "metadata": {},
   "outputs": [],
   "source": [
    "e037.columns = ['CHR', 'START', 'END', 'METRIC']\n",
    "x = e037['METRIC'].quantile([0.1,0.2,0.3,0.4,0.5,0.6,0.7,0.8,0.9])\n",
    "temp = e037.loc[e037['METRIC'] > x[0.6]]\n",
    "merged = pd.merge(gwas, temp, how='inner', left_on=['CHR', 'POS'], right_on=['CHR', 'START'])\n",
    "result_df = merged[(merged['POS'] >= merged['START']) & (merged['POS'] <= merged['END'])]\n",
    "for index, row in temp.iterrows():\n",
    "    annot[index][36] = 1"
   ]
  },
  {
   "cell_type": "code",
   "execution_count": 48,
   "id": "a87283dc-09a3-45aa-a0bb-9ad14215002d",
   "metadata": {},
   "outputs": [],
   "source": [
    "e038.columns = ['CHR', 'START', 'END', 'METRIC']\n",
    "x = e038['METRIC'].quantile([0.1,0.2,0.3,0.4,0.5,0.6,0.7,0.8,0.9])\n",
    "temp = e038.loc[e038['METRIC'] > x[0.6]]\n",
    "merged = pd.merge(gwas, temp, how='inner', left_on=['CHR', 'POS'], right_on=['CHR', 'START'])\n",
    "result_df = merged[(merged['POS'] >= merged['START']) & (merged['POS'] <= merged['END'])]\n",
    "for index, row in temp.iterrows():\n",
    "    annot[index][37] = 1"
   ]
  },
  {
   "cell_type": "code",
   "execution_count": 49,
   "id": "ec33c090-77ac-4ae8-9d7e-f6e399526a50",
   "metadata": {},
   "outputs": [],
   "source": [
    "e039.columns = ['CHR', 'START', 'END', 'METRIC']\n",
    "x = e039['METRIC'].quantile([0.1,0.2,0.3,0.4,0.5,0.6,0.7,0.8,0.9])\n",
    "temp = e039.loc[e039['METRIC'] > x[0.6]]\n",
    "merged = pd.merge(gwas, temp, how='inner', left_on=['CHR', 'POS'], right_on=['CHR', 'START'])\n",
    "result_df = merged[(merged['POS'] >= merged['START']) & (merged['POS'] <= merged['END'])]\n",
    "for index, row in temp.iterrows():\n",
    "    annot[index][38] = 1"
   ]
  },
  {
   "cell_type": "code",
   "execution_count": 50,
   "id": "5a29bf3f-adc9-4070-a9cd-d31273e1e8bd",
   "metadata": {},
   "outputs": [],
   "source": [
    "e040.columns = ['CHR', 'START', 'END', 'METRIC']\n",
    "x = e040['METRIC'].quantile([0.1,0.2,0.3,0.4,0.5,0.6,0.7,0.8,0.9])\n",
    "temp = e040.loc[e040['METRIC'] > x[0.6]]\n",
    "merged = pd.merge(gwas, temp, how='inner', left_on=['CHR', 'POS'], right_on=['CHR', 'START'])\n",
    "result_df = merged[(merged['POS'] >= merged['START']) & (merged['POS'] <= merged['END'])]\n",
    "for index, row in temp.iterrows():\n",
    "    annot[index][39] = 1"
   ]
  },
  {
   "cell_type": "markdown",
   "id": "a0f0a60d-bcf1-48d2-a127-27c6f0665dd8",
   "metadata": {},
   "source": [
    "## 41-60"
   ]
  },
  {
   "cell_type": "code",
   "execution_count": 51,
   "id": "07562c15-02b6-41fe-b065-4a5b449bbdac",
   "metadata": {},
   "outputs": [],
   "source": [
    "e041.columns = ['CHR', 'START', 'END', 'METRIC']\n",
    "x = e041['METRIC'].quantile([0.1,0.2,0.3,0.4,0.5,0.6,0.7,0.8,0.9])\n",
    "temp = e041.loc[e041['METRIC'] > x[0.6]]\n",
    "merged = pd.merge(gwas, temp, how='inner', left_on=['CHR', 'POS'], right_on=['CHR', 'START'])\n",
    "result_df = merged[(merged['POS'] >= merged['START']) & (merged['POS'] <= merged['END'])]\n",
    "for index, row in temp.iterrows():\n",
    "    annot[index][40] = 1"
   ]
  },
  {
   "cell_type": "code",
   "execution_count": 52,
   "id": "9c5ba471-2230-4a77-abf7-4c300d6231e4",
   "metadata": {},
   "outputs": [],
   "source": [
    "e042.columns = ['CHR', 'START', 'END', 'METRIC']\n",
    "x = e042['METRIC'].quantile([0.1,0.2,0.3,0.4,0.5,0.6,0.7,0.8,0.9])\n",
    "temp = e042.loc[e042['METRIC'] > x[0.6]]\n",
    "merged = pd.merge(gwas, temp, how='inner', left_on=['CHR', 'POS'], right_on=['CHR', 'START'])\n",
    "result_df = merged[(merged['POS'] >= merged['START']) & (merged['POS'] <= merged['END'])]\n",
    "for index, row in temp.iterrows():\n",
    "    annot[index][41] = 1"
   ]
  },
  {
   "cell_type": "code",
   "execution_count": 53,
   "id": "a1e4b8ac-63b4-4118-a209-d90f25107a04",
   "metadata": {},
   "outputs": [],
   "source": [
    "e043.columns = ['CHR', 'START', 'END', 'METRIC']\n",
    "x = e043['METRIC'].quantile([0.1,0.2,0.3,0.4,0.5,0.6,0.7,0.8,0.9])\n",
    "temp = e043.loc[e043['METRIC'] > x[0.6]]\n",
    "merged = pd.merge(gwas, temp, how='inner', left_on=['CHR', 'POS'], right_on=['CHR', 'START'])\n",
    "result_df = merged[(merged['POS'] >= merged['START']) & (merged['POS'] <= merged['END'])]\n",
    "for index, row in temp.iterrows():\n",
    "    annot[index][42] = 1"
   ]
  },
  {
   "cell_type": "code",
   "execution_count": 54,
   "id": "b21af373-03f1-41ba-98fd-24ccc4fbc82c",
   "metadata": {},
   "outputs": [],
   "source": [
    "e044.columns = ['CHR', 'START', 'END', 'METRIC']\n",
    "x = e044['METRIC'].quantile([0.1,0.2,0.3,0.4,0.5,0.6,0.7,0.8,0.9])\n",
    "temp = e044.loc[e044['METRIC'] > x[0.6]]\n",
    "merged = pd.merge(gwas, temp, how='inner', left_on=['CHR', 'POS'], right_on=['CHR', 'START'])\n",
    "result_df = merged[(merged['POS'] >= merged['START']) & (merged['POS'] <= merged['END'])]\n",
    "for index, row in temp.iterrows():\n",
    "    annot[index][43] = 1"
   ]
  },
  {
   "cell_type": "code",
   "execution_count": 55,
   "id": "a3b4f9fa-9776-406b-b152-7c6008a7fe9d",
   "metadata": {},
   "outputs": [],
   "source": [
    "e045.columns = ['CHR', 'START', 'END', 'METRIC']\n",
    "x = e045['METRIC'].quantile([0.1,0.2,0.3,0.4,0.5,0.6,0.7,0.8,0.9])\n",
    "temp = e045.loc[e045['METRIC'] > x[0.6]]\n",
    "merged = pd.merge(gwas, temp, how='inner', left_on=['CHR', 'POS'], right_on=['CHR', 'START'])\n",
    "result_df = merged[(merged['POS'] >= merged['START']) & (merged['POS'] <= merged['END'])]\n",
    "for index, row in temp.iterrows():\n",
    "    annot[index][44] = 1"
   ]
  },
  {
   "cell_type": "code",
   "execution_count": 56,
   "id": "5b3f1bea-cdef-4494-9289-6425845fadba",
   "metadata": {},
   "outputs": [],
   "source": [
    "e046.columns = ['CHR', 'START', 'END', 'METRIC']\n",
    "x = e046['METRIC'].quantile([0.1,0.2,0.3,0.4,0.5,0.6,0.7,0.8,0.9])\n",
    "temp = e046.loc[e046['METRIC'] > x[0.6]]\n",
    "merged = pd.merge(gwas, temp, how='inner', left_on=['CHR', 'POS'], right_on=['CHR', 'START'])\n",
    "result_df = merged[(merged['POS'] >= merged['START']) & (merged['POS'] <= merged['END'])]\n",
    "for index, row in temp.iterrows():\n",
    "    annot[index][45] = 1"
   ]
  },
  {
   "cell_type": "code",
   "execution_count": 57,
   "id": "63007975-2d8e-44e6-9541-bb6868f7b409",
   "metadata": {},
   "outputs": [],
   "source": [
    "e047.columns = ['CHR', 'START', 'END', 'METRIC']\n",
    "x = e047['METRIC'].quantile([0.1,0.2,0.3,0.4,0.5,0.6,0.7,0.8,0.9])\n",
    "temp = e047.loc[e047['METRIC'] > x[0.6]]\n",
    "merged = pd.merge(gwas, temp, how='inner', left_on=['CHR', 'POS'], right_on=['CHR', 'START'])\n",
    "result_df = merged[(merged['POS'] >= merged['START']) & (merged['POS'] <= merged['END'])]\n",
    "for index, row in temp.iterrows():\n",
    "    annot[index][46] = 1"
   ]
  },
  {
   "cell_type": "code",
   "execution_count": 58,
   "id": "f68eba4b-1f3c-43bb-9be1-5f2b259cc7f4",
   "metadata": {},
   "outputs": [],
   "source": [
    "e048.columns = ['CHR', 'START', 'END', 'METRIC']\n",
    "x = e048['METRIC'].quantile([0.1,0.2,0.3,0.4,0.5,0.6,0.7,0.8,0.9])\n",
    "temp = e048.loc[e048['METRIC'] > x[0.6]]\n",
    "merged = pd.merge(gwas, temp, how='inner', left_on=['CHR', 'POS'], right_on=['CHR', 'START'])\n",
    "result_df = merged[(merged['POS'] >= merged['START']) & (merged['POS'] <= merged['END'])]\n",
    "for index, row in temp.iterrows():\n",
    "    annot[index][47] = 1"
   ]
  },
  {
   "cell_type": "code",
   "execution_count": 60,
   "id": "be3d51ee-6b9f-4603-8eba-f206e4a108b2",
   "metadata": {},
   "outputs": [],
   "source": [
    "e049.columns = ['CHR', 'START', 'END', 'METRIC']\n",
    "x = e049['METRIC'].quantile([0.1,0.2,0.3,0.4,0.5,0.6,0.7,0.8,0.9])\n",
    "temp = e049.loc[e049['METRIC'] > x[0.6]]\n",
    "merged = pd.merge(gwas, temp, how='inner', left_on=['CHR', 'POS'], right_on=['CHR', 'START'])\n",
    "result_df = merged[(merged['POS'] >= merged['START']) & (merged['POS'] <= merged['END'])]\n",
    "for index, row in temp.iterrows():\n",
    "    annot[index][48] = 1"
   ]
  },
  {
   "cell_type": "code",
   "execution_count": 61,
   "id": "afed5a3c-3cc7-49e4-b765-de734e8b4a2a",
   "metadata": {},
   "outputs": [],
   "source": [
    "e050.columns = ['CHR', 'START', 'END', 'METRIC']\n",
    "x = e050['METRIC'].quantile([0.1,0.2,0.3,0.4,0.5,0.6,0.7,0.8,0.9])\n",
    "temp = e050.loc[e050['METRIC'] > x[0.6]]\n",
    "merged = pd.merge(gwas, temp, how='inner', left_on=['CHR', 'POS'], right_on=['CHR', 'START'])\n",
    "result_df = merged[(merged['POS'] >= merged['START']) & (merged['POS'] <= merged['END'])]\n",
    "for index, row in temp.iterrows():\n",
    "    annot[index][49] = 1"
   ]
  },
  {
   "cell_type": "code",
   "execution_count": 62,
   "id": "6486e23d-32cc-497d-bd1c-b2abd5aff03d",
   "metadata": {},
   "outputs": [],
   "source": [
    "e051.columns = ['CHR', 'START', 'END', 'METRIC']\n",
    "x = e051['METRIC'].quantile([0.1,0.2,0.3,0.4,0.5,0.6,0.7,0.8,0.9])\n",
    "temp = e051.loc[e051['METRIC'] > x[0.6]]\n",
    "merged = pd.merge(gwas, temp, how='inner', left_on=['CHR', 'POS'], right_on=['CHR', 'START'])\n",
    "result_df = merged[(merged['POS'] >= merged['START']) & (merged['POS'] <= merged['END'])]\n",
    "for index, row in temp.iterrows():\n",
    "    annot[index][50] = 1"
   ]
  },
  {
   "cell_type": "code",
   "execution_count": 63,
   "id": "0bcfed2d-5d97-4d40-867f-8a2cb8e97bc1",
   "metadata": {},
   "outputs": [],
   "source": [
    "e052.columns = ['CHR', 'START', 'END', 'METRIC']\n",
    "x = e052['METRIC'].quantile([0.1,0.2,0.3,0.4,0.5,0.6,0.7,0.8,0.9])\n",
    "temp = e052.loc[e052['METRIC'] > x[0.6]]\n",
    "merged = pd.merge(gwas, temp, how='inner', left_on=['CHR', 'POS'], right_on=['CHR', 'START'])\n",
    "result_df = merged[(merged['POS'] >= merged['START']) & (merged['POS'] <= merged['END'])]\n",
    "for index, row in temp.iterrows():\n",
    "    annot[index][51] = 1"
   ]
  },
  {
   "cell_type": "code",
   "execution_count": 64,
   "id": "58e9b135-1456-4268-a1bd-b031e863462e",
   "metadata": {},
   "outputs": [],
   "source": [
    "e053.columns = ['CHR', 'START', 'END', 'METRIC']\n",
    "x = e053['METRIC'].quantile([0.1,0.2,0.3,0.4,0.5,0.6,0.7,0.8,0.9])\n",
    "temp = e053.loc[e053['METRIC'] > x[0.6]]\n",
    "merged = pd.merge(gwas, temp, how='inner', left_on=['CHR', 'POS'], right_on=['CHR', 'START'])\n",
    "result_df = merged[(merged['POS'] >= merged['START']) & (merged['POS'] <= merged['END'])]\n",
    "for index, row in temp.iterrows():\n",
    "    annot[index][52] = 1"
   ]
  },
  {
   "cell_type": "code",
   "execution_count": 65,
   "id": "09e15d2f-cd86-4f25-97d2-86fcb799b26f",
   "metadata": {},
   "outputs": [],
   "source": [
    "e054.columns = ['CHR', 'START', 'END', 'METRIC']\n",
    "x = e054['METRIC'].quantile([0.1,0.2,0.3,0.4,0.5,0.6,0.7,0.8,0.9])\n",
    "temp = e054.loc[e054['METRIC'] > x[0.6]]\n",
    "merged = pd.merge(gwas, temp, how='inner', left_on=['CHR', 'POS'], right_on=['CHR', 'START'])\n",
    "result_df = merged[(merged['POS'] >= merged['START']) & (merged['POS'] <= merged['END'])]\n",
    "for index, row in temp.iterrows():\n",
    "    annot[index][53] = 1"
   ]
  },
  {
   "cell_type": "code",
   "execution_count": 66,
   "id": "54306dd6-f0a6-4a77-8b28-172478698e42",
   "metadata": {},
   "outputs": [],
   "source": [
    "e055.columns = ['CHR', 'START', 'END', 'METRIC']\n",
    "x = e055['METRIC'].quantile([0.1,0.2,0.3,0.4,0.5,0.6,0.7,0.8,0.9])\n",
    "temp = e055.loc[e055['METRIC'] > x[0.6]]\n",
    "merged = pd.merge(gwas, temp, how='inner', left_on=['CHR', 'POS'], right_on=['CHR', 'START'])\n",
    "result_df = merged[(merged['POS'] >= merged['START']) & (merged['POS'] <= merged['END'])]\n",
    "for index, row in temp.iterrows():\n",
    "    annot[index][54] = 1"
   ]
  },
  {
   "cell_type": "code",
   "execution_count": 67,
   "id": "03019c94-50b2-4bbb-b24e-9aee0807d0cf",
   "metadata": {},
   "outputs": [],
   "source": [
    "e056.columns = ['CHR', 'START', 'END', 'METRIC']\n",
    "x = e056['METRIC'].quantile([0.1,0.2,0.3,0.4,0.5,0.6,0.7,0.8,0.9])\n",
    "temp = e056.loc[e056['METRIC'] > x[0.6]]\n",
    "merged = pd.merge(gwas, temp, how='inner', left_on=['CHR', 'POS'], right_on=['CHR', 'START'])\n",
    "result_df = merged[(merged['POS'] >= merged['START']) & (merged['POS'] <= merged['END'])]\n",
    "for index, row in temp.iterrows():\n",
    "    annot[index][55] = 1"
   ]
  },
  {
   "cell_type": "code",
   "execution_count": 68,
   "id": "3ecd5327-bb12-4761-81e8-bef2ddab0a84",
   "metadata": {},
   "outputs": [],
   "source": [
    "e057.columns = ['CHR', 'START', 'END', 'METRIC']\n",
    "x = e057['METRIC'].quantile([0.1,0.2,0.3,0.4,0.5,0.6,0.7,0.8,0.9])\n",
    "temp = e057.loc[e057['METRIC'] > x[0.6]]\n",
    "merged = pd.merge(gwas, temp, how='inner', left_on=['CHR', 'POS'], right_on=['CHR', 'START'])\n",
    "result_df = merged[(merged['POS'] >= merged['START']) & (merged['POS'] <= merged['END'])]\n",
    "for index, row in temp.iterrows():\n",
    "    annot[index][56] = 1"
   ]
  },
  {
   "cell_type": "code",
   "execution_count": 69,
   "id": "f2e4924b-4aa9-4734-b9c7-f495395ec669",
   "metadata": {},
   "outputs": [],
   "source": [
    "e058.columns = ['CHR', 'START', 'END', 'METRIC']\n",
    "x = e058['METRIC'].quantile([0.1,0.2,0.3,0.4,0.5,0.6,0.7,0.8,0.9])\n",
    "temp = e058.loc[e058['METRIC'] > x[0.6]]\n",
    "merged = pd.merge(gwas, temp, how='inner', left_on=['CHR', 'POS'], right_on=['CHR', 'START'])\n",
    "result_df = merged[(merged['POS'] >= merged['START']) & (merged['POS'] <= merged['END'])]\n",
    "for index, row in temp.iterrows():\n",
    "    annot[index][57] = 1"
   ]
  },
  {
   "cell_type": "code",
   "execution_count": 70,
   "id": "269a784f-764a-487f-a56e-6cae2470f262",
   "metadata": {},
   "outputs": [],
   "source": [
    "e059.columns = ['CHR', 'START', 'END', 'METRIC']\n",
    "x = e059['METRIC'].quantile([0.1,0.2,0.3,0.4,0.5,0.6,0.7,0.8,0.9])\n",
    "temp = e059.loc[e059['METRIC'] > x[0.6]]\n",
    "merged = pd.merge(gwas, temp, how='inner', left_on=['CHR', 'POS'], right_on=['CHR', 'START'])\n",
    "result_df = merged[(merged['POS'] >= merged['START']) & (merged['POS'] <= merged['END'])]\n",
    "for index, row in temp.iterrows():\n",
    "    annot[index][58] = 1"
   ]
  },
  {
   "cell_type": "markdown",
   "id": "a17e83a1-5f75-4e9c-9225-8c743f047f0f",
   "metadata": {},
   "source": [
    "## 61-80"
   ]
  },
  {
   "cell_type": "code",
   "execution_count": 71,
   "id": "dc605823-01e4-441f-bb84-77aa7835d659",
   "metadata": {},
   "outputs": [],
   "source": [
    "e061.columns = ['CHR', 'START', 'END', 'METRIC']\n",
    "x = e061['METRIC'].quantile([0.1,0.2,0.3,0.4,0.5,0.6,0.7,0.8,0.9])\n",
    "temp = e061.loc[e061['METRIC'] > x[0.6]]\n",
    "merged = pd.merge(gwas, temp, how='inner', left_on=['CHR', 'POS'], right_on=['CHR', 'START'])\n",
    "result_df = merged[(merged['POS'] >= merged['START']) & (merged['POS'] <= merged['END'])]\n",
    "for index, row in temp.iterrows():\n",
    "    annot[index][60] = 1"
   ]
  },
  {
   "cell_type": "code",
   "execution_count": 72,
   "id": "765de98e-72f4-4c7d-9a0c-bc91f9bd5b20",
   "metadata": {},
   "outputs": [],
   "source": [
    "e062.columns = ['CHR', 'START', 'END', 'METRIC']\n",
    "x = e062['METRIC'].quantile([0.1,0.2,0.3,0.4,0.5,0.6,0.7,0.8,0.9])\n",
    "temp = e062.loc[e062['METRIC'] > x[0.6]]\n",
    "merged = pd.merge(gwas, temp, how='inner', left_on=['CHR', 'POS'], right_on=['CHR', 'START'])\n",
    "result_df = merged[(merged['POS'] >= merged['START']) & (merged['POS'] <= merged['END'])]\n",
    "for index, row in temp.iterrows():\n",
    "    annot[index][61] = 1"
   ]
  },
  {
   "cell_type": "code",
   "execution_count": 73,
   "id": "bd78e340-8791-4ba3-bc07-0fd4e48f05d9",
   "metadata": {},
   "outputs": [],
   "source": [
    "e063.columns = ['CHR', 'START', 'END', 'METRIC']\n",
    "x = e063['METRIC'].quantile([0.1,0.2,0.3,0.4,0.5,0.6,0.7,0.8,0.9])\n",
    "temp = e063.loc[e063['METRIC'] > x[0.6]]\n",
    "merged = pd.merge(gwas, temp, how='inner', left_on=['CHR', 'POS'], right_on=['CHR', 'START'])\n",
    "result_df = merged[(merged['POS'] >= merged['START']) & (merged['POS'] <= merged['END'])]\n",
    "for index, row in temp.iterrows():\n",
    "    annot[index][62] = 1"
   ]
  },
  {
   "cell_type": "code",
   "execution_count": 74,
   "id": "f882a791-ddc1-4cc8-b443-22fcf84e4935",
   "metadata": {},
   "outputs": [],
   "source": [
    "e065.columns = ['CHR', 'START', 'END', 'METRIC']\n",
    "x = e065['METRIC'].quantile([0.1,0.2,0.3,0.4,0.5,0.6,0.7,0.8,0.9])\n",
    "temp = e065.loc[e065['METRIC'] > x[0.6]]\n",
    "merged = pd.merge(gwas, temp, how='inner', left_on=['CHR', 'POS'], right_on=['CHR', 'START'])\n",
    "result_df = merged[(merged['POS'] >= merged['START']) & (merged['POS'] <= merged['END'])]\n",
    "for index, row in temp.iterrows():\n",
    "    annot[index][64] = 1"
   ]
  },
  {
   "cell_type": "code",
   "execution_count": 75,
   "id": "c4bf843c-a431-4af1-8a31-46d5a7e61408",
   "metadata": {},
   "outputs": [],
   "source": [
    "e066.columns = ['CHR', 'START', 'END', 'METRIC']\n",
    "x = e066['METRIC'].quantile([0.1,0.2,0.3,0.4,0.5,0.6,0.7,0.8,0.9])\n",
    "temp = e066.loc[e066['METRIC'] > x[0.6]]\n",
    "merged = pd.merge(gwas, temp, how='inner', left_on=['CHR', 'POS'], right_on=['CHR', 'START'])\n",
    "result_df = merged[(merged['POS'] >= merged['START']) & (merged['POS'] <= merged['END'])]\n",
    "for index, row in temp.iterrows():\n",
    "    annot[index][65] = 1"
   ]
  },
  {
   "cell_type": "code",
   "execution_count": 76,
   "id": "f36cdab7-95d1-4191-8140-008cea13f418",
   "metadata": {},
   "outputs": [],
   "source": [
    "e067.columns = ['CHR', 'START', 'END', 'METRIC']\n",
    "x = e067['METRIC'].quantile([0.1,0.2,0.3,0.4,0.5,0.6,0.7,0.8,0.9])\n",
    "temp = e067.loc[e067['METRIC'] > x[0.6]]\n",
    "merged = pd.merge(gwas, temp, how='inner', left_on=['CHR', 'POS'], right_on=['CHR', 'START'])\n",
    "result_df = merged[(merged['POS'] >= merged['START']) & (merged['POS'] <= merged['END'])]\n",
    "for index, row in temp.iterrows():\n",
    "    annot[index][66] = 1"
   ]
  },
  {
   "cell_type": "code",
   "execution_count": 77,
   "id": "98082b11-33fd-42ff-9491-ce45ec70d8da",
   "metadata": {},
   "outputs": [],
   "source": [
    "e068.columns = ['CHR', 'START', 'END', 'METRIC']\n",
    "x = e068['METRIC'].quantile([0.1,0.2,0.3,0.4,0.5,0.6,0.7,0.8,0.9])\n",
    "temp = e068.loc[e068['METRIC'] > x[0.6]]\n",
    "merged = pd.merge(gwas, temp, how='inner', left_on=['CHR', 'POS'], right_on=['CHR', 'START'])\n",
    "result_df = merged[(merged['POS'] >= merged['START']) & (merged['POS'] <= merged['END'])]\n",
    "for index, row in temp.iterrows():\n",
    "    annot[index][67] = 1"
   ]
  },
  {
   "cell_type": "code",
   "execution_count": 78,
   "id": "194ebd3f-b6c1-4148-95a7-532f3863c9d6",
   "metadata": {},
   "outputs": [],
   "source": [
    "e069.columns = ['CHR', 'START', 'END', 'METRIC']\n",
    "x = e069['METRIC'].quantile([0.1,0.2,0.3,0.4,0.5,0.6,0.7,0.8,0.9])\n",
    "temp = e069.loc[e069['METRIC'] > x[0.6]]\n",
    "merged = pd.merge(gwas, temp, how='inner', left_on=['CHR', 'POS'], right_on=['CHR', 'START'])\n",
    "result_df = merged[(merged['POS'] >= merged['START']) & (merged['POS'] <= merged['END'])]\n",
    "for index, row in temp.iterrows():\n",
    "    annot[index][68] = 1"
   ]
  },
  {
   "cell_type": "code",
   "execution_count": 79,
   "id": "b64c0dca-cce3-4b01-9726-93bd2257e76b",
   "metadata": {},
   "outputs": [],
   "source": [
    "e070.columns = ['CHR', 'START', 'END', 'METRIC']\n",
    "x = e070['METRIC'].quantile([0.1,0.2,0.3,0.4,0.5,0.6,0.7,0.8,0.9])\n",
    "temp = e070.loc[e070['METRIC'] > x[0.6]]\n",
    "merged = pd.merge(gwas, temp, how='inner', left_on=['CHR', 'POS'], right_on=['CHR', 'START'])\n",
    "result_df = merged[(merged['POS'] >= merged['START']) & (merged['POS'] <= merged['END'])]\n",
    "for index, row in temp.iterrows():\n",
    "    annot[index][69] = 1"
   ]
  },
  {
   "cell_type": "code",
   "execution_count": 80,
   "id": "47442673-540e-4d9f-b37d-2c2d818f57d9",
   "metadata": {},
   "outputs": [],
   "source": [
    "e071.columns = ['CHR', 'START', 'END', 'METRIC']\n",
    "x = e071['METRIC'].quantile([0.1,0.2,0.3,0.4,0.5,0.6,0.7,0.8,0.9])\n",
    "temp = e071.loc[e071['METRIC'] > x[0.6]]\n",
    "merged = pd.merge(gwas, temp, how='inner', left_on=['CHR', 'POS'], right_on=['CHR', 'START'])\n",
    "result_df = merged[(merged['POS'] >= merged['START']) & (merged['POS'] <= merged['END'])]\n",
    "for index, row in temp.iterrows():\n",
    "    annot[index][70] = 1"
   ]
  },
  {
   "cell_type": "code",
   "execution_count": 81,
   "id": "d213acd2-bb2b-4387-95c9-0fa342e88dce",
   "metadata": {},
   "outputs": [],
   "source": [
    "e072.columns = ['CHR', 'START', 'END', 'METRIC']\n",
    "x = e072['METRIC'].quantile([0.1,0.2,0.3,0.4,0.5,0.6,0.7,0.8,0.9])\n",
    "temp = e072.loc[e072['METRIC'] > x[0.6]]\n",
    "merged = pd.merge(gwas, temp, how='inner', left_on=['CHR', 'POS'], right_on=['CHR', 'START'])\n",
    "result_df = merged[(merged['POS'] >= merged['START']) & (merged['POS'] <= merged['END'])]\n",
    "for index, row in temp.iterrows():\n",
    "    annot[index][71] = 1"
   ]
  },
  {
   "cell_type": "code",
   "execution_count": 82,
   "id": "e0b858cc-ebcb-4bd9-9218-25babd390d7a",
   "metadata": {},
   "outputs": [],
   "source": [
    "e073.columns = ['CHR', 'START', 'END', 'METRIC']\n",
    "x = e073['METRIC'].quantile([0.1,0.2,0.3,0.4,0.5,0.6,0.7,0.8,0.9])\n",
    "temp = e073.loc[e073['METRIC'] > x[0.6]]\n",
    "merged = pd.merge(gwas, temp, how='inner', left_on=['CHR', 'POS'], right_on=['CHR', 'START'])\n",
    "result_df = merged[(merged['POS'] >= merged['START']) & (merged['POS'] <= merged['END'])]\n",
    "for index, row in temp.iterrows():\n",
    "    annot[index][72] = 1"
   ]
  },
  {
   "cell_type": "code",
   "execution_count": 83,
   "id": "8be975c6-be24-468c-88f6-e793c01dfecc",
   "metadata": {},
   "outputs": [],
   "source": [
    "e074.columns = ['CHR', 'START', 'END', 'METRIC']\n",
    "x = e074['METRIC'].quantile([0.1,0.2,0.3,0.4,0.5,0.6,0.7,0.8,0.9])\n",
    "temp = e074.loc[e074['METRIC'] > x[0.6]]\n",
    "merged = pd.merge(gwas, temp, how='inner', left_on=['CHR', 'POS'], right_on=['CHR', 'START'])\n",
    "result_df = merged[(merged['POS'] >= merged['START']) & (merged['POS'] <= merged['END'])]\n",
    "for index, row in temp.iterrows():\n",
    "    annot[index][73] = 1"
   ]
  },
  {
   "cell_type": "code",
   "execution_count": 84,
   "id": "fa827f19-83e0-4ce0-a79d-7c9b7a2fea55",
   "metadata": {},
   "outputs": [],
   "source": [
    "e075.columns = ['CHR', 'START', 'END', 'METRIC']\n",
    "x = e075['METRIC'].quantile([0.1,0.2,0.3,0.4,0.5,0.6,0.7,0.8,0.9])\n",
    "temp = e075.loc[e075['METRIC'] > x[0.6]]\n",
    "merged = pd.merge(gwas, temp, how='inner', left_on=['CHR', 'POS'], right_on=['CHR', 'START'])\n",
    "result_df = merged[(merged['POS'] >= merged['START']) & (merged['POS'] <= merged['END'])]\n",
    "for index, row in temp.iterrows():\n",
    "    annot[index][74] = 1"
   ]
  },
  {
   "cell_type": "code",
   "execution_count": 85,
   "id": "76af854c-7845-43cf-9395-ebafc7a9d8fd",
   "metadata": {},
   "outputs": [],
   "source": [
    "e076.columns = ['CHR', 'START', 'END', 'METRIC']\n",
    "x = e076['METRIC'].quantile([0.1,0.2,0.3,0.4,0.5,0.6,0.7,0.8,0.9])\n",
    "temp = e076.loc[e076['METRIC'] > x[0.6]]\n",
    "merged = pd.merge(gwas, temp, how='inner', left_on=['CHR', 'POS'], right_on=['CHR', 'START'])\n",
    "result_df = merged[(merged['POS'] >= merged['START']) & (merged['POS'] <= merged['END'])]\n",
    "for index, row in temp.iterrows():\n",
    "    annot[index][75] = 1"
   ]
  },
  {
   "cell_type": "code",
   "execution_count": 86,
   "id": "92a07429-75d6-4573-9d33-90ed0cdacef1",
   "metadata": {},
   "outputs": [],
   "source": [
    "e077.columns = ['CHR', 'START', 'END', 'METRIC']\n",
    "x = e077['METRIC'].quantile([0.1,0.2,0.3,0.4,0.5,0.6,0.7,0.8,0.9])\n",
    "temp = e077.loc[e077['METRIC'] > x[0.6]]\n",
    "merged = pd.merge(gwas, temp, how='inner', left_on=['CHR', 'POS'], right_on=['CHR', 'START'])\n",
    "result_df = merged[(merged['POS'] >= merged['START']) & (merged['POS'] <= merged['END'])]\n",
    "for index, row in temp.iterrows():\n",
    "    annot[index][76] = 1"
   ]
  },
  {
   "cell_type": "code",
   "execution_count": 87,
   "id": "380b39ac-595a-48e6-b614-48b2b508ad58",
   "metadata": {},
   "outputs": [],
   "source": [
    "e078.columns = ['CHR', 'START', 'END', 'METRIC']\n",
    "x = e078['METRIC'].quantile([0.1,0.2,0.3,0.4,0.5,0.6,0.7,0.8,0.9])\n",
    "temp = e078.loc[e078['METRIC'] > x[0.6]]\n",
    "merged = pd.merge(gwas, temp, how='inner', left_on=['CHR', 'POS'], right_on=['CHR', 'START'])\n",
    "result_df = merged[(merged['POS'] >= merged['START']) & (merged['POS'] <= merged['END'])]\n",
    "for index, row in temp.iterrows():\n",
    "    annot[index][77] = 1"
   ]
  },
  {
   "cell_type": "code",
   "execution_count": 88,
   "id": "a45f068e-3b21-4b7f-a1a9-d13be77c736f",
   "metadata": {},
   "outputs": [],
   "source": [
    "e079.columns = ['CHR', 'START', 'END', 'METRIC']\n",
    "x = e079['METRIC'].quantile([0.1,0.2,0.3,0.4,0.5,0.6,0.7,0.8,0.9])\n",
    "temp = e079.loc[e079['METRIC'] > x[0.6]]\n",
    "merged = pd.merge(gwas, temp, how='inner', left_on=['CHR', 'POS'], right_on=['CHR', 'START'])\n",
    "result_df = merged[(merged['POS'] >= merged['START']) & (merged['POS'] <= merged['END'])]\n",
    "for index, row in temp.iterrows():\n",
    "    annot[index][78] = 1"
   ]
  },
  {
   "cell_type": "code",
   "execution_count": 89,
   "id": "47ce12c6-e49d-4d51-9aa0-c78fff0f6cbe",
   "metadata": {},
   "outputs": [],
   "source": [
    "e080.columns = ['CHR', 'START', 'END', 'METRIC']\n",
    "x = e080['METRIC'].quantile([0.1,0.2,0.3,0.4,0.5,0.6,0.7,0.8,0.9])\n",
    "temp = e080.loc[e080['METRIC'] > x[0.6]]\n",
    "merged = pd.merge(gwas, temp, how='inner', left_on=['CHR', 'POS'], right_on=['CHR', 'START'])\n",
    "result_df = merged[(merged['POS'] >= merged['START']) & (merged['POS'] <= merged['END'])]\n",
    "for index, row in temp.iterrows():\n",
    "    annot[index][79] = 1"
   ]
  },
  {
   "cell_type": "markdown",
   "id": "54f50f99-22e0-446b-a11a-12b7432299ae",
   "metadata": {},
   "source": [
    "## 81-100"
   ]
  },
  {
   "cell_type": "code",
   "execution_count": 90,
   "id": "a5fe39bd-1d27-48f3-8209-9e01c866c3f9",
   "metadata": {},
   "outputs": [],
   "source": [
    "e081.columns = ['CHR', 'START', 'END', 'METRIC']\n",
    "x = e081['METRIC'].quantile([0.1,0.2,0.3,0.4,0.5,0.6,0.7,0.8,0.9])\n",
    "temp = e081.loc[e081['METRIC'] > x[0.6]]\n",
    "merged = pd.merge(gwas, temp, how='inner', left_on=['CHR', 'POS'], right_on=['CHR', 'START'])\n",
    "result_df = merged[(merged['POS'] >= merged['START']) & (merged['POS'] <= merged['END'])]\n",
    "for index, row in temp.iterrows():\n",
    "    annot[index][80] = 1"
   ]
  },
  {
   "cell_type": "code",
   "execution_count": 91,
   "id": "f5b13f32-4607-4514-9120-539126d374c1",
   "metadata": {},
   "outputs": [],
   "source": [
    "e082.columns = ['CHR', 'START', 'END', 'METRIC']\n",
    "x = e082['METRIC'].quantile([0.1,0.2,0.3,0.4,0.5,0.6,0.7,0.8,0.9])\n",
    "temp = e082.loc[e082['METRIC'] > x[0.6]]\n",
    "merged = pd.merge(gwas, temp, how='inner', left_on=['CHR', 'POS'], right_on=['CHR', 'START'])\n",
    "result_df = merged[(merged['POS'] >= merged['START']) & (merged['POS'] <= merged['END'])]\n",
    "for index, row in temp.iterrows():\n",
    "    annot[index][81] = 1"
   ]
  },
  {
   "cell_type": "code",
   "execution_count": 92,
   "id": "08257694-f7c5-492d-830e-ca2eb680e8cf",
   "metadata": {},
   "outputs": [],
   "source": [
    "e083.columns = ['CHR', 'START', 'END', 'METRIC']\n",
    "x = e083['METRIC'].quantile([0.1,0.2,0.3,0.4,0.5,0.6,0.7,0.8,0.9])\n",
    "temp = e083.loc[e083['METRIC'] > x[0.6]]\n",
    "merged = pd.merge(gwas, temp, how='inner', left_on=['CHR', 'POS'], right_on=['CHR', 'START'])\n",
    "result_df = merged[(merged['POS'] >= merged['START']) & (merged['POS'] <= merged['END'])]\n",
    "for index, row in temp.iterrows():\n",
    "    annot[index][82] = 1"
   ]
  },
  {
   "cell_type": "code",
   "execution_count": 93,
   "id": "09926cc8-645b-4147-af70-e4a248b46a29",
   "metadata": {},
   "outputs": [],
   "source": [
    "e084.columns = ['CHR', 'START', 'END', 'METRIC']\n",
    "x = e084['METRIC'].quantile([0.1,0.2,0.3,0.4,0.5,0.6,0.7,0.8,0.9])\n",
    "temp = e084.loc[e084['METRIC'] > x[0.6]]\n",
    "merged = pd.merge(gwas, temp, how='inner', left_on=['CHR', 'POS'], right_on=['CHR', 'START'])\n",
    "result_df = merged[(merged['POS'] >= merged['START']) & (merged['POS'] <= merged['END'])]\n",
    "for index, row in temp.iterrows():\n",
    "    annot[index][83] = 1"
   ]
  },
  {
   "cell_type": "code",
   "execution_count": 94,
   "id": "bfce79aa-ef01-4515-8c96-b96b196cd786",
   "metadata": {},
   "outputs": [],
   "source": [
    "e085.columns = ['CHR', 'START', 'END', 'METRIC']\n",
    "x = e085['METRIC'].quantile([0.1,0.2,0.3,0.4,0.5,0.6,0.7,0.8,0.9])\n",
    "temp = e085.loc[e085['METRIC'] > x[0.6]]\n",
    "merged = pd.merge(gwas, temp, how='inner', left_on=['CHR', 'POS'], right_on=['CHR', 'START'])\n",
    "result_df = merged[(merged['POS'] >= merged['START']) & (merged['POS'] <= merged['END'])]\n",
    "for index, row in temp.iterrows():\n",
    "    annot[index][84] = 1"
   ]
  },
  {
   "cell_type": "code",
   "execution_count": 95,
   "id": "96de4a9f-a3ae-419a-aa68-f50519dda289",
   "metadata": {},
   "outputs": [],
   "source": [
    "e086.columns = ['CHR', 'START', 'END', 'METRIC']\n",
    "x = e086['METRIC'].quantile([0.1,0.2,0.3,0.4,0.5,0.6,0.7,0.8,0.9])\n",
    "temp = e086.loc[e086['METRIC'] > x[0.6]]\n",
    "merged = pd.merge(gwas, temp, how='inner', left_on=['CHR', 'POS'], right_on=['CHR', 'START'])\n",
    "result_df = merged[(merged['POS'] >= merged['START']) & (merged['POS'] <= merged['END'])]\n",
    "for index, row in temp.iterrows():\n",
    "    annot[index][85] = 1"
   ]
  },
  {
   "cell_type": "code",
   "execution_count": 96,
   "id": "10662d52-c100-46ed-86c0-85b77dad6fef",
   "metadata": {},
   "outputs": [],
   "source": [
    "e087.columns = ['CHR', 'START', 'END', 'METRIC']\n",
    "x = e087['METRIC'].quantile([0.1,0.2,0.3,0.4,0.5,0.6,0.7,0.8,0.9])\n",
    "temp = e087.loc[e087['METRIC'] > x[0.6]]\n",
    "merged = pd.merge(gwas, temp, how='inner', left_on=['CHR', 'POS'], right_on=['CHR', 'START'])\n",
    "result_df = merged[(merged['POS'] >= merged['START']) & (merged['POS'] <= merged['END'])]\n",
    "for index, row in temp.iterrows():\n",
    "    annot[index][86] = 1"
   ]
  },
  {
   "cell_type": "code",
   "execution_count": 97,
   "id": "c2e0faca-f9f4-4619-9aaa-28432b3e40ab",
   "metadata": {},
   "outputs": [],
   "source": [
    "e088.columns = ['CHR', 'START', 'END', 'METRIC']\n",
    "x = e088['METRIC'].quantile([0.1,0.2,0.3,0.4,0.5,0.6,0.7,0.8,0.9])\n",
    "temp = e088.loc[e088['METRIC'] > x[0.6]]\n",
    "merged = pd.merge(gwas, temp, how='inner', left_on=['CHR', 'POS'], right_on=['CHR', 'START'])\n",
    "result_df = merged[(merged['POS'] >= merged['START']) & (merged['POS'] <= merged['END'])]\n",
    "for index, row in temp.iterrows():\n",
    "    annot[index][87] = 1"
   ]
  },
  {
   "cell_type": "code",
   "execution_count": 98,
   "id": "a7ac653c-9598-43c9-9c57-26cb4a48cbb2",
   "metadata": {},
   "outputs": [],
   "source": [
    "e089.columns = ['CHR', 'START', 'END', 'METRIC']\n",
    "x = e089['METRIC'].quantile([0.1,0.2,0.3,0.4,0.5,0.6,0.7,0.8,0.9])\n",
    "temp = e089.loc[e089['METRIC'] > x[0.6]]\n",
    "merged = pd.merge(gwas, temp, how='inner', left_on=['CHR', 'POS'], right_on=['CHR', 'START'])\n",
    "result_df = merged[(merged['POS'] >= merged['START']) & (merged['POS'] <= merged['END'])]\n",
    "for index, row in temp.iterrows():\n",
    "    annot[index][88] = 1"
   ]
  },
  {
   "cell_type": "code",
   "execution_count": 99,
   "id": "e098c77b-079c-42d9-8238-5a1f96c42ca3",
   "metadata": {},
   "outputs": [],
   "source": [
    "e090.columns = ['CHR', 'START', 'END', 'METRIC']\n",
    "x = e090['METRIC'].quantile([0.1,0.2,0.3,0.4,0.5,0.6,0.7,0.8,0.9])\n",
    "temp = e090.loc[e090['METRIC'] > x[0.6]]\n",
    "merged = pd.merge(gwas, temp, how='inner', left_on=['CHR', 'POS'], right_on=['CHR', 'START'])\n",
    "result_df = merged[(merged['POS'] >= merged['START']) & (merged['POS'] <= merged['END'])]\n",
    "for index, row in temp.iterrows():\n",
    "    annot[index][89] = 1"
   ]
  },
  {
   "cell_type": "code",
   "execution_count": 100,
   "id": "498a082d-b598-4cf8-a023-f2174b414bcb",
   "metadata": {},
   "outputs": [],
   "source": [
    "e091.columns = ['CHR', 'START', 'END', 'METRIC']\n",
    "x = e091['METRIC'].quantile([0.1,0.2,0.3,0.4,0.5,0.6,0.7,0.8,0.9])\n",
    "temp = e091.loc[e091['METRIC'] > x[0.6]]\n",
    "merged = pd.merge(gwas, temp, how='inner', left_on=['CHR', 'POS'], right_on=['CHR', 'START'])\n",
    "result_df = merged[(merged['POS'] >= merged['START']) & (merged['POS'] <= merged['END'])]\n",
    "for index, row in temp.iterrows():\n",
    "    annot[index][91] = 1"
   ]
  },
  {
   "cell_type": "code",
   "execution_count": 101,
   "id": "cbe489f7-24ee-4299-acf7-c86f2ce15027",
   "metadata": {},
   "outputs": [],
   "source": [
    "e092.columns = ['CHR', 'START', 'END', 'METRIC']\n",
    "x = e092['METRIC'].quantile([0.1,0.2,0.3,0.4,0.5,0.6,0.7,0.8,0.9])\n",
    "temp = e092.loc[e092['METRIC'] > x[0.6]]\n",
    "merged = pd.merge(gwas, temp, how='inner', left_on=['CHR', 'POS'], right_on=['CHR', 'START'])\n",
    "result_df = merged[(merged['POS'] >= merged['START']) & (merged['POS'] <= merged['END'])]\n",
    "for index, row in temp.iterrows():\n",
    "    annot[index][91] = 1"
   ]
  },
  {
   "cell_type": "code",
   "execution_count": 102,
   "id": "1ce8f146-897f-4e63-a197-1ae2765d0e61",
   "metadata": {},
   "outputs": [],
   "source": [
    "e093.columns = ['CHR', 'START', 'END', 'METRIC']\n",
    "x = e093['METRIC'].quantile([0.1,0.2,0.3,0.4,0.5,0.6,0.7,0.8,0.9])\n",
    "temp = e093.loc[e093['METRIC'] > x[0.6]]\n",
    "merged = pd.merge(gwas, temp, how='inner', left_on=['CHR', 'POS'], right_on=['CHR', 'START'])\n",
    "result_df = merged[(merged['POS'] >= merged['START']) & (merged['POS'] <= merged['END'])]\n",
    "for index, row in temp.iterrows():\n",
    "    annot[index][92] = 1"
   ]
  },
  {
   "cell_type": "code",
   "execution_count": 103,
   "id": "a1fa8713-fd9b-451c-b806-71c1b4194843",
   "metadata": {},
   "outputs": [],
   "source": [
    "e094.columns = ['CHR', 'START', 'END', 'METRIC']\n",
    "x = e094['METRIC'].quantile([0.1,0.2,0.3,0.4,0.5,0.6,0.7,0.8,0.9])\n",
    "temp = e094.loc[e094['METRIC'] > x[0.6]]\n",
    "merged = pd.merge(gwas, temp, how='inner', left_on=['CHR', 'POS'], right_on=['CHR', 'START'])\n",
    "result_df = merged[(merged['POS'] >= merged['START']) & (merged['POS'] <= merged['END'])]\n",
    "for index, row in temp.iterrows():\n",
    "    annot[index][93] = 1"
   ]
  },
  {
   "cell_type": "code",
   "execution_count": 104,
   "id": "f7254a52-30b1-4437-95c7-9a5679cfebea",
   "metadata": {},
   "outputs": [],
   "source": [
    "e095.columns = ['CHR', 'START', 'END', 'METRIC']\n",
    "x = e095['METRIC'].quantile([0.1,0.2,0.3,0.4,0.5,0.6,0.7,0.8,0.9])\n",
    "temp = e095.loc[e095['METRIC'] > x[0.6]]\n",
    "merged = pd.merge(gwas, temp, how='inner', left_on=['CHR', 'POS'], right_on=['CHR', 'START'])\n",
    "result_df = merged[(merged['POS'] >= merged['START']) & (merged['POS'] <= merged['END'])]\n",
    "for index, row in temp.iterrows():\n",
    "    annot[index][94] = 1"
   ]
  },
  {
   "cell_type": "code",
   "execution_count": 105,
   "id": "379d97e6-bdbc-42da-a5ab-9d3c9d44b594",
   "metadata": {},
   "outputs": [],
   "source": [
    "e096.columns = ['CHR', 'START', 'END', 'METRIC']\n",
    "x = e096['METRIC'].quantile([0.1,0.2,0.3,0.4,0.5,0.6,0.7,0.8,0.9])\n",
    "temp = e096.loc[e096['METRIC'] > x[0.6]]\n",
    "merged = pd.merge(gwas, temp, how='inner', left_on=['CHR', 'POS'], right_on=['CHR', 'START'])\n",
    "result_df = merged[(merged['POS'] >= merged['START']) & (merged['POS'] <= merged['END'])]\n",
    "for index, row in temp.iterrows():\n",
    "    annot[index][95] = 1"
   ]
  },
  {
   "cell_type": "code",
   "execution_count": 106,
   "id": "540ef261-e52e-48c1-b7dd-bdca4260203e",
   "metadata": {},
   "outputs": [],
   "source": [
    "e097.columns = ['CHR', 'START', 'END', 'METRIC']\n",
    "x = e097['METRIC'].quantile([0.1,0.2,0.3,0.4,0.5,0.6,0.7,0.8,0.9])\n",
    "temp = e097.loc[e097['METRIC'] > x[0.6]]\n",
    "merged = pd.merge(gwas, temp, how='inner', left_on=['CHR', 'POS'], right_on=['CHR', 'START'])\n",
    "result_df = merged[(merged['POS'] >= merged['START']) & (merged['POS'] <= merged['END'])]\n",
    "for index, row in temp.iterrows():\n",
    "    annot[index][96] = 1"
   ]
  },
  {
   "cell_type": "code",
   "execution_count": 107,
   "id": "0a5bbc0c-cabe-484e-93f5-9f92fa07f355",
   "metadata": {},
   "outputs": [],
   "source": [
    "e098.columns = ['CHR', 'START', 'END', 'METRIC']\n",
    "x = e098['METRIC'].quantile([0.1,0.2,0.3,0.4,0.5,0.6,0.7,0.8,0.9])\n",
    "temp = e098.loc[e098['METRIC'] > x[0.6]]\n",
    "merged = pd.merge(gwas, temp, how='inner', left_on=['CHR', 'POS'], right_on=['CHR', 'START'])\n",
    "result_df = merged[(merged['POS'] >= merged['START']) & (merged['POS'] <= merged['END'])]\n",
    "for index, row in temp.iterrows():\n",
    "    annot[index][97] = 1"
   ]
  },
  {
   "cell_type": "code",
   "execution_count": 108,
   "id": "488fda36-f39e-4d82-ba7b-6cfb67fddd6e",
   "metadata": {},
   "outputs": [],
   "source": [
    "e099.columns = ['CHR', 'START', 'END', 'METRIC']\n",
    "x = e099['METRIC'].quantile([0.1,0.2,0.3,0.4,0.5,0.6,0.7,0.8,0.9])\n",
    "temp = e099.loc[e099['METRIC'] > x[0.6]]\n",
    "merged = pd.merge(gwas, temp, how='inner', left_on=['CHR', 'POS'], right_on=['CHR', 'START'])\n",
    "result_df = merged[(merged['POS'] >= merged['START']) & (merged['POS'] <= merged['END'])]\n",
    "for index, row in temp.iterrows():\n",
    "    annot[index][98] = 1"
   ]
  },
  {
   "cell_type": "code",
   "execution_count": 109,
   "id": "b672df39-a32f-4264-b075-4cb4c25e123c",
   "metadata": {},
   "outputs": [],
   "source": [
    "e100.columns = ['CHR', 'START', 'END', 'METRIC']\n",
    "x = e100['METRIC'].quantile([0.1,0.2,0.3,0.4,0.5,0.6,0.7,0.8,0.9])\n",
    "temp = e100.loc[e100['METRIC'] > x[0.6]]\n",
    "merged = pd.merge(gwas, temp, how='inner', left_on=['CHR', 'POS'], right_on=['CHR', 'START'])\n",
    "result_df = merged[(merged['POS'] >= merged['START']) & (merged['POS'] <= merged['END'])]\n",
    "for index, row in temp.iterrows():\n",
    "    annot[index][99] = 1"
   ]
  },
  {
   "cell_type": "markdown",
   "id": "c617d1a6-a9f9-4daf-b9ef-4152d72b2838",
   "metadata": {},
   "source": [
    "## 101-120"
   ]
  },
  {
   "cell_type": "code",
   "execution_count": 110,
   "id": "8d4ed24f-e684-4b78-8abf-8a5c29e3ab6b",
   "metadata": {},
   "outputs": [],
   "source": [
    "e101.columns = ['CHR', 'START', 'END', 'METRIC']\n",
    "x = e101['METRIC'].quantile([0.1,0.2,0.3,0.4,0.5,0.6,0.7,0.8,0.9])\n",
    "temp = e101.loc[e101['METRIC'] > x[0.6]]\n",
    "merged = pd.merge(gwas, temp, how='inner', left_on=['CHR', 'POS'], right_on=['CHR', 'START'])\n",
    "result_df = merged[(merged['POS'] >= merged['START']) & (merged['POS'] <= merged['END'])]\n",
    "for index, row in temp.iterrows():\n",
    "    annot[index][100] = 1"
   ]
  },
  {
   "cell_type": "code",
   "execution_count": 111,
   "id": "0b7f2b20-a790-4061-a320-1e6e0df69ce7",
   "metadata": {},
   "outputs": [],
   "source": [
    "e102.columns = ['CHR', 'START', 'END', 'METRIC']\n",
    "x = e102['METRIC'].quantile([0.1,0.2,0.3,0.4,0.5,0.6,0.7,0.8,0.9])\n",
    "temp = e102.loc[e102['METRIC'] > x[0.6]]\n",
    "merged = pd.merge(gwas, temp, how='inner', left_on=['CHR', 'POS'], right_on=['CHR', 'START'])\n",
    "result_df = merged[(merged['POS'] >= merged['START']) & (merged['POS'] <= merged['END'])]\n",
    "for index, row in temp.iterrows():\n",
    "    annot[index][101] = 1"
   ]
  },
  {
   "cell_type": "code",
   "execution_count": 112,
   "id": "99bb62c5-e40e-4b3d-bec0-3bf67c67e07e",
   "metadata": {},
   "outputs": [],
   "source": [
    "e103.columns = ['CHR', 'START', 'END', 'METRIC']\n",
    "x = e103['METRIC'].quantile([0.1,0.2,0.3,0.4,0.5,0.6,0.7,0.8,0.9])\n",
    "temp = e103.loc[e103['METRIC'] > x[0.6]]\n",
    "merged = pd.merge(gwas, temp, how='inner', left_on=['CHR', 'POS'], right_on=['CHR', 'START'])\n",
    "result_df = merged[(merged['POS'] >= merged['START']) & (merged['POS'] <= merged['END'])]\n",
    "for index, row in temp.iterrows():\n",
    "    annot[index][102] = 1"
   ]
  },
  {
   "cell_type": "code",
   "execution_count": 113,
   "id": "c501a668-b2a3-4eff-8ec3-ed0a3268ab69",
   "metadata": {},
   "outputs": [],
   "source": [
    "e104.columns = ['CHR', 'START', 'END', 'METRIC']\n",
    "x = e104['METRIC'].quantile([0.1,0.2,0.3,0.4,0.5,0.6,0.7,0.8,0.9])\n",
    "temp = e104.loc[e104['METRIC'] > x[0.6]]\n",
    "merged = pd.merge(gwas, temp, how='inner', left_on=['CHR', 'POS'], right_on=['CHR', 'START'])\n",
    "result_df = merged[(merged['POS'] >= merged['START']) & (merged['POS'] <= merged['END'])]\n",
    "for index, row in temp.iterrows():\n",
    "    annot[index][103] = 1"
   ]
  },
  {
   "cell_type": "code",
   "execution_count": 114,
   "id": "5148480e-e4f1-4bb3-b82e-46a756565ea5",
   "metadata": {},
   "outputs": [],
   "source": [
    "e105.columns = ['CHR', 'START', 'END', 'METRIC']\n",
    "x = e105['METRIC'].quantile([0.1,0.2,0.3,0.4,0.5,0.6,0.7,0.8,0.9])\n",
    "temp = e105.loc[e105['METRIC'] > x[0.6]]\n",
    "merged = pd.merge(gwas, temp, how='inner', left_on=['CHR', 'POS'], right_on=['CHR', 'START'])\n",
    "result_df = merged[(merged['POS'] >= merged['START']) & (merged['POS'] <= merged['END'])]\n",
    "for index, row in temp.iterrows():\n",
    "    annot[index][104] = 1"
   ]
  },
  {
   "cell_type": "code",
   "execution_count": 115,
   "id": "07cce89d-e486-491c-bc28-3b8872a71bb0",
   "metadata": {},
   "outputs": [],
   "source": [
    "e106.columns = ['CHR', 'START', 'END', 'METRIC']\n",
    "x = e106['METRIC'].quantile([0.1,0.2,0.3,0.4,0.5,0.6,0.7,0.8,0.9])\n",
    "temp = e106.loc[e106['METRIC'] > x[0.6]]\n",
    "merged = pd.merge(gwas, temp, how='inner', left_on=['CHR', 'POS'], right_on=['CHR', 'START'])\n",
    "result_df = merged[(merged['POS'] >= merged['START']) & (merged['POS'] <= merged['END'])]\n",
    "for index, row in temp.iterrows():\n",
    "    annot[index][105] = 1"
   ]
  },
  {
   "cell_type": "code",
   "execution_count": 116,
   "id": "81cb0e1c-3d00-47b0-aa3f-cfd0b8cb46be",
   "metadata": {},
   "outputs": [],
   "source": [
    "e107.columns = ['CHR', 'START', 'END', 'METRIC']\n",
    "x = e107['METRIC'].quantile([0.1,0.2,0.3,0.4,0.5,0.6,0.7,0.8,0.9])\n",
    "temp = e107.loc[e107['METRIC'] > x[0.6]]\n",
    "merged = pd.merge(gwas, temp, how='inner', left_on=['CHR', 'POS'], right_on=['CHR', 'START'])\n",
    "result_df = merged[(merged['POS'] >= merged['START']) & (merged['POS'] <= merged['END'])]\n",
    "for index, row in temp.iterrows():\n",
    "    annot[index][106] = 1"
   ]
  },
  {
   "cell_type": "code",
   "execution_count": 117,
   "id": "6141e220-401a-40a0-b189-04646291c394",
   "metadata": {},
   "outputs": [],
   "source": [
    "e108.columns = ['CHR', 'START', 'END', 'METRIC']\n",
    "x = e108['METRIC'].quantile([0.1,0.2,0.3,0.4,0.5,0.6,0.7,0.8,0.9])\n",
    "temp = e108.loc[e108['METRIC'] > x[0.6]]\n",
    "merged = pd.merge(gwas, temp, how='inner', left_on=['CHR', 'POS'], right_on=['CHR', 'START'])\n",
    "result_df = merged[(merged['POS'] >= merged['START']) & (merged['POS'] <= merged['END'])]\n",
    "for index, row in temp.iterrows():\n",
    "    annot[index][107] = 1"
   ]
  },
  {
   "cell_type": "code",
   "execution_count": 118,
   "id": "17591090-e978-4480-92af-3a956244a5bb",
   "metadata": {},
   "outputs": [],
   "source": [
    "e109.columns = ['CHR', 'START', 'END', 'METRIC']\n",
    "x = e109['METRIC'].quantile([0.1,0.2,0.3,0.4,0.5,0.6,0.7,0.8,0.9])\n",
    "temp = e109.loc[e109['METRIC'] > x[0.6]]\n",
    "merged = pd.merge(gwas, temp, how='inner', left_on=['CHR', 'POS'], right_on=['CHR', 'START'])\n",
    "result_df = merged[(merged['POS'] >= merged['START']) & (merged['POS'] <= merged['END'])]\n",
    "for index, row in temp.iterrows():\n",
    "    annot[index][108] = 1"
   ]
  },
  {
   "cell_type": "code",
   "execution_count": 119,
   "id": "ce24828b-e8db-4acd-aea0-04cf1ac203f9",
   "metadata": {},
   "outputs": [],
   "source": [
    "e110.columns = ['CHR', 'START', 'END', 'METRIC']\n",
    "x = e110['METRIC'].quantile([0.1,0.2,0.3,0.4,0.5,0.6,0.7,0.8,0.9])\n",
    "temp = e110.loc[e110['METRIC'] > x[0.6]]\n",
    "merged = pd.merge(gwas, temp, how='inner', left_on=['CHR', 'POS'], right_on=['CHR', 'START'])\n",
    "result_df = merged[(merged['POS'] >= merged['START']) & (merged['POS'] <= merged['END'])]\n",
    "for index, row in temp.iterrows():\n",
    "    annot[index][109] = 1"
   ]
  },
  {
   "cell_type": "code",
   "execution_count": 120,
   "id": "c1c2ac9f-b533-4efd-82cb-50d454b21290",
   "metadata": {},
   "outputs": [],
   "source": [
    "e111.columns = ['CHR', 'START', 'END', 'METRIC']\n",
    "x = e111['METRIC'].quantile([0.1,0.2,0.3,0.4,0.5,0.6,0.7,0.8,0.9])\n",
    "temp = e111.loc[e111['METRIC'] > x[0.6]]\n",
    "merged = pd.merge(gwas, temp, how='inner', left_on=['CHR', 'POS'], right_on=['CHR', 'START'])\n",
    "result_df = merged[(merged['POS'] >= merged['START']) & (merged['POS'] <= merged['END'])]\n",
    "for index, row in temp.iterrows():\n",
    "    annot[index][110] = 1"
   ]
  },
  {
   "cell_type": "code",
   "execution_count": 121,
   "id": "665b5b38-09c7-482d-8db3-02ad53966819",
   "metadata": {},
   "outputs": [],
   "source": [
    "e112.columns = ['CHR', 'START', 'END', 'METRIC']\n",
    "x = e112['METRIC'].quantile([0.1,0.2,0.3,0.4,0.5,0.6,0.7,0.8,0.9])\n",
    "temp = e112.loc[e112['METRIC'] > x[0.6]]\n",
    "merged = pd.merge(gwas, temp, how='inner', left_on=['CHR', 'POS'], right_on=['CHR', 'START'])\n",
    "result_df = merged[(merged['POS'] >= merged['START']) & (merged['POS'] <= merged['END'])]\n",
    "for index, row in temp.iterrows():\n",
    "    annot[index][111] = 1"
   ]
  },
  {
   "cell_type": "code",
   "execution_count": 122,
   "id": "b9bfe092-d5c0-4bc0-b6e1-ef80c3c713b9",
   "metadata": {},
   "outputs": [],
   "source": [
    "e113.columns = ['CHR', 'START', 'END', 'METRIC']\n",
    "x = e113['METRIC'].quantile([0.1,0.2,0.3,0.4,0.5,0.6,0.7,0.8,0.9])\n",
    "temp = e113.loc[e113['METRIC'] > x[0.6]]\n",
    "merged = pd.merge(gwas, temp, how='inner', left_on=['CHR', 'POS'], right_on=['CHR', 'START'])\n",
    "result_df = merged[(merged['POS'] >= merged['START']) & (merged['POS'] <= merged['END'])]\n",
    "for index, row in temp.iterrows():\n",
    "    annot[index][112] = 1"
   ]
  },
  {
   "cell_type": "code",
   "execution_count": 123,
   "id": "151291ad-873c-467a-b5a5-6a8e82a38013",
   "metadata": {},
   "outputs": [],
   "source": [
    "e114.columns = ['CHR', 'START', 'END', 'METRIC']\n",
    "x = e114['METRIC'].quantile([0.1,0.2,0.3,0.4,0.5,0.6,0.7,0.8,0.9])\n",
    "temp = e114.loc[e114['METRIC'] > x[0.6]]\n",
    "merged = pd.merge(gwas, temp, how='inner', left_on=['CHR', 'POS'], right_on=['CHR', 'START'])\n",
    "result_df = merged[(merged['POS'] >= merged['START']) & (merged['POS'] <= merged['END'])]\n",
    "for index, row in temp.iterrows():\n",
    "    annot[index][113] = 1"
   ]
  },
  {
   "cell_type": "code",
   "execution_count": 124,
   "id": "552f8412-be26-4dc1-835e-7ed396272ddf",
   "metadata": {},
   "outputs": [],
   "source": [
    "e115.columns = ['CHR', 'START', 'END', 'METRIC']\n",
    "x = e115['METRIC'].quantile([0.1,0.2,0.3,0.4,0.5,0.6,0.7,0.8,0.9])\n",
    "temp = e115.loc[e115['METRIC'] > x[0.6]]\n",
    "merged = pd.merge(gwas, temp, how='inner', left_on=['CHR', 'POS'], right_on=['CHR', 'START'])\n",
    "result_df = merged[(merged['POS'] >= merged['START']) & (merged['POS'] <= merged['END'])]\n",
    "for index, row in temp.iterrows():\n",
    "    annot[index][114] = 1"
   ]
  },
  {
   "cell_type": "code",
   "execution_count": 125,
   "id": "6fd19936-8c5d-4d6f-92bc-17e83632e1b6",
   "metadata": {},
   "outputs": [],
   "source": [
    "e116.columns = ['CHR', 'START', 'END', 'METRIC']\n",
    "x = e116['METRIC'].quantile([0.1,0.2,0.3,0.4,0.5,0.6,0.7,0.8,0.9])\n",
    "temp = e116.loc[e116['METRIC'] > x[0.6]]\n",
    "merged = pd.merge(gwas, temp, how='inner', left_on=['CHR', 'POS'], right_on=['CHR', 'START'])\n",
    "result_df = merged[(merged['POS'] >= merged['START']) & (merged['POS'] <= merged['END'])]\n",
    "for index, row in temp.iterrows():\n",
    "    annot[index][115] = 1"
   ]
  },
  {
   "cell_type": "code",
   "execution_count": 126,
   "id": "d1f485f7-1adf-4a13-a628-4bce60bebb13",
   "metadata": {},
   "outputs": [],
   "source": [
    "e117.columns = ['CHR', 'START', 'END', 'METRIC']\n",
    "x = e117['METRIC'].quantile([0.1,0.2,0.3,0.4,0.5,0.6,0.7,0.8,0.9])\n",
    "temp = e117.loc[e117['METRIC'] > x[0.6]]\n",
    "merged = pd.merge(gwas, temp, how='inner', left_on=['CHR', 'POS'], right_on=['CHR', 'START'])\n",
    "result_df = merged[(merged['POS'] >= merged['START']) & (merged['POS'] <= merged['END'])]\n",
    "for index, row in temp.iterrows():\n",
    "    annot[index][116] = 1"
   ]
  },
  {
   "cell_type": "code",
   "execution_count": 127,
   "id": "a9436b82-0d79-4958-b3ec-8ad2350698e7",
   "metadata": {},
   "outputs": [],
   "source": [
    "e118.columns = ['CHR', 'START', 'END', 'METRIC']\n",
    "x = e118['METRIC'].quantile([0.1,0.2,0.3,0.4,0.5,0.6,0.7,0.8,0.9])\n",
    "temp = e118.loc[e118['METRIC'] > x[0.6]]\n",
    "merged = pd.merge(gwas, temp, how='inner', left_on=['CHR', 'POS'], right_on=['CHR', 'START'])\n",
    "result_df = merged[(merged['POS'] >= merged['START']) & (merged['POS'] <= merged['END'])]\n",
    "for index, row in temp.iterrows():\n",
    "    annot[index][117] = 1"
   ]
  },
  {
   "cell_type": "code",
   "execution_count": 128,
   "id": "98392ce0-fcd1-43ff-a9e5-883a420bbb82",
   "metadata": {},
   "outputs": [],
   "source": [
    "e119.columns = ['CHR', 'START', 'END', 'METRIC']\n",
    "x = e119['METRIC'].quantile([0.1,0.2,0.3,0.4,0.5,0.6,0.7,0.8,0.9])\n",
    "temp = e119.loc[e119['METRIC'] > x[0.6]]\n",
    "merged = pd.merge(gwas, temp, how='inner', left_on=['CHR', 'POS'], right_on=['CHR', 'START'])\n",
    "result_df = merged[(merged['POS'] >= merged['START']) & (merged['POS'] <= merged['END'])]\n",
    "for index, row in temp.iterrows():\n",
    "    annot[index][118] = 1"
   ]
  },
  {
   "cell_type": "code",
   "execution_count": 129,
   "id": "bd8da2b2-606d-4adf-bf3d-2c76775b125d",
   "metadata": {},
   "outputs": [],
   "source": [
    "e120.columns = ['CHR', 'START', 'END', 'METRIC']\n",
    "x = e120['METRIC'].quantile([0.1,0.2,0.3,0.4,0.5,0.6,0.7,0.8,0.9])\n",
    "temp = e120.loc[e120['METRIC'] > x[0.6]]\n",
    "merged = pd.merge(gwas, temp, how='inner', left_on=['CHR', 'POS'], right_on=['CHR', 'START'])\n",
    "result_df = merged[(merged['POS'] >= merged['START']) & (merged['POS'] <= merged['END'])]\n",
    "for index, row in temp.iterrows():\n",
    "    annot[index][119] = 1"
   ]
  },
  {
   "cell_type": "markdown",
   "id": "a8bb2f69-b98a-416c-b82d-4ae3180ca4ab",
   "metadata": {},
   "source": [
    "## 121-127"
   ]
  },
  {
   "cell_type": "code",
   "execution_count": 130,
   "id": "dea18f33-880a-4aad-9378-3f41c17744c3",
   "metadata": {},
   "outputs": [],
   "source": [
    "e121.columns = ['CHR', 'START', 'END', 'METRIC']\n",
    "x = e121['METRIC'].quantile([0.1,0.2,0.3,0.4,0.5,0.6,0.7,0.8,0.9])\n",
    "temp = e121.loc[e121['METRIC'] > x[0.6]]\n",
    "merged = pd.merge(gwas, temp, how='inner', left_on=['CHR', 'POS'], right_on=['CHR', 'START'])\n",
    "result_df = merged[(merged['POS'] >= merged['START']) & (merged['POS'] <= merged['END'])]\n",
    "for index, row in temp.iterrows():\n",
    "    annot[index][120] = 1"
   ]
  },
  {
   "cell_type": "code",
   "execution_count": 131,
   "id": "d7f6df9a-16b1-42ec-9bb7-c9f109a019a1",
   "metadata": {},
   "outputs": [],
   "source": [
    "e122.columns = ['CHR', 'START', 'END', 'METRIC']\n",
    "x = e122['METRIC'].quantile([0.1,0.2,0.3,0.4,0.5,0.6,0.7,0.8,0.9])\n",
    "temp = e122.loc[e122['METRIC'] > x[0.6]]\n",
    "merged = pd.merge(gwas, temp, how='inner', left_on=['CHR', 'POS'], right_on=['CHR', 'START'])\n",
    "result_df = merged[(merged['POS'] >= merged['START']) & (merged['POS'] <= merged['END'])]\n",
    "for index, row in temp.iterrows():\n",
    "    annot[index][121] = 1"
   ]
  },
  {
   "cell_type": "code",
   "execution_count": 132,
   "id": "51d6f5d6-75f6-4b70-98cd-728b7cd66522",
   "metadata": {},
   "outputs": [],
   "source": [
    "e123.columns = ['CHR', 'START', 'END', 'METRIC']\n",
    "x = e123['METRIC'].quantile([0.1,0.2,0.3,0.4,0.5,0.6,0.7,0.8,0.9])\n",
    "temp = e123.loc[e123['METRIC'] > x[0.6]]\n",
    "merged = pd.merge(gwas, temp, how='inner', left_on=['CHR', 'POS'], right_on=['CHR', 'START'])\n",
    "result_df = merged[(merged['POS'] >= merged['START']) & (merged['POS'] <= merged['END'])]\n",
    "for index, row in temp.iterrows():\n",
    "    annot[index][122] = 1"
   ]
  },
  {
   "cell_type": "code",
   "execution_count": 133,
   "id": "b3ebce5d-ad5c-4874-b2d3-56c725376149",
   "metadata": {},
   "outputs": [],
   "source": [
    "e124.columns = ['CHR', 'START', 'END', 'METRIC']\n",
    "x = e124['METRIC'].quantile([0.1,0.2,0.3,0.4,0.5,0.6,0.7,0.8,0.9])\n",
    "temp = e124.loc[e124['METRIC'] > x[0.6]]\n",
    "merged = pd.merge(gwas, temp, how='inner', left_on=['CHR', 'POS'], right_on=['CHR', 'START'])\n",
    "result_df = merged[(merged['POS'] >= merged['START']) & (merged['POS'] <= merged['END'])]\n",
    "for index, row in temp.iterrows():\n",
    "    annot[index][123] = 1"
   ]
  },
  {
   "cell_type": "code",
   "execution_count": 134,
   "id": "cf7b7b74-c757-4136-90cb-df112eebb41c",
   "metadata": {},
   "outputs": [],
   "source": [
    "e125.columns = ['CHR', 'START', 'END', 'METRIC']\n",
    "x = e125['METRIC'].quantile([0.1,0.2,0.3,0.4,0.5,0.6,0.7,0.8,0.9])\n",
    "temp = e125.loc[e125['METRIC'] > x[0.6]]\n",
    "merged = pd.merge(gwas, temp, how='inner', left_on=['CHR', 'POS'], right_on=['CHR', 'START'])\n",
    "result_df = merged[(merged['POS'] >= merged['START']) & (merged['POS'] <= merged['END'])]\n",
    "for index, row in temp.iterrows():\n",
    "    annot[index][124] = 1"
   ]
  },
  {
   "cell_type": "code",
   "execution_count": 135,
   "id": "b9130e68-35e2-47d2-9324-475e6349317d",
   "metadata": {},
   "outputs": [],
   "source": [
    "e126.columns = ['CHR', 'START', 'END', 'METRIC']\n",
    "x = e126['METRIC'].quantile([0.1,0.2,0.3,0.4,0.5,0.6,0.7,0.8,0.9])\n",
    "temp = e126.loc[e126['METRIC'] > x[0.6]]\n",
    "merged = pd.merge(gwas, temp, how='inner', left_on=['CHR', 'POS'], right_on=['CHR', 'START'])\n",
    "result_df = merged[(merged['POS'] >= merged['START']) & (merged['POS'] <= merged['END'])]\n",
    "for index, row in temp.iterrows():\n",
    "    annot[index][125] = 1"
   ]
  },
  {
   "cell_type": "code",
   "execution_count": 136,
   "id": "53915b77-a154-4e5b-84bc-170b862beb22",
   "metadata": {},
   "outputs": [],
   "source": [
    "e127.columns = ['CHR', 'START', 'END', 'METRIC']\n",
    "x = e127['METRIC'].quantile([0.1,0.2,0.3,0.4,0.5,0.6,0.7,0.8,0.9])\n",
    "temp = e127.loc[e127['METRIC'] > x[0.6]]\n",
    "merged = pd.merge(gwas, temp, how='inner', left_on=['CHR', 'POS'], right_on=['CHR', 'START'])\n",
    "result_df = merged[(merged['POS'] >= merged['START']) & (merged['POS'] <= merged['END'])]\n",
    "for index, row in temp.iterrows():\n",
    "    annot[index][126] = 1"
   ]
  },
  {
   "cell_type": "code",
   "execution_count": 167,
   "id": "204c409a-c2c2-4c8a-922e-e15d332643d2",
   "metadata": {},
   "outputs": [],
   "source": [
    "matrix = pd.DataFrame(annot)"
   ]
  },
  {
   "cell_type": "code",
   "execution_count": 170,
   "id": "23285647-ce13-4a2f-a23c-2f193f490951",
   "metadata": {},
   "outputs": [],
   "source": [
    "finalDf = pd.concat([gwas['RSID'], matrix], axis=1)"
   ]
  },
  {
   "cell_type": "code",
   "execution_count": 172,
   "id": "7a5d8511-41e8-48b4-ad37-bf1d89d7d669",
   "metadata": {},
   "outputs": [
    {
     "data": {
      "text/html": [
       "<div>\n",
       "<style scoped>\n",
       "    .dataframe tbody tr th:only-of-type {\n",
       "        vertical-align: middle;\n",
       "    }\n",
       "\n",
       "    .dataframe tbody tr th {\n",
       "        vertical-align: top;\n",
       "    }\n",
       "\n",
       "    .dataframe thead th {\n",
       "        text-align: right;\n",
       "    }\n",
       "</style>\n",
       "<table border=\"1\" class=\"dataframe\">\n",
       "  <thead>\n",
       "    <tr style=\"text-align: right;\">\n",
       "      <th></th>\n",
       "      <th>CHR</th>\n",
       "      <th>POS</th>\n",
       "      <th>RSID</th>\n",
       "      <th>EFFECT_ALLELE</th>\n",
       "      <th>OTHER_ALLELE</th>\n",
       "      <th>AF_1000G</th>\n",
       "      <th>BETA</th>\n",
       "      <th>SE</th>\n",
       "      <th>P</th>\n",
       "      <th>N</th>\n",
       "    </tr>\n",
       "  </thead>\n",
       "  <tbody>\n",
       "    <tr>\n",
       "      <th>0</th>\n",
       "      <td>chr10</td>\n",
       "      <td>100000235</td>\n",
       "      <td>rs11596870</td>\n",
       "      <td>T</td>\n",
       "      <td>C</td>\n",
       "      <td>0.325648</td>\n",
       "      <td>0.002590</td>\n",
       "      <td>0.053</td>\n",
       "      <td>0.961330</td>\n",
       "      <td>844</td>\n",
       "    </tr>\n",
       "    <tr>\n",
       "      <th>1</th>\n",
       "      <td>chr10</td>\n",
       "      <td>100000943</td>\n",
       "      <td>rs11190359</td>\n",
       "      <td>A</td>\n",
       "      <td>G</td>\n",
       "      <td>0.112392</td>\n",
       "      <td>0.041480</td>\n",
       "      <td>0.069</td>\n",
       "      <td>0.549756</td>\n",
       "      <td>844</td>\n",
       "    </tr>\n",
       "    <tr>\n",
       "      <th>2</th>\n",
       "      <td>chr10</td>\n",
       "      <td>100000979</td>\n",
       "      <td>rs11190360</td>\n",
       "      <td>C</td>\n",
       "      <td>T</td>\n",
       "      <td>0.044669</td>\n",
       "      <td>-0.018880</td>\n",
       "      <td>0.096</td>\n",
       "      <td>0.844487</td>\n",
       "      <td>844</td>\n",
       "    </tr>\n",
       "    <tr>\n",
       "      <th>3</th>\n",
       "      <td>chr10</td>\n",
       "      <td>100002012</td>\n",
       "      <td>rs11190362</td>\n",
       "      <td>C</td>\n",
       "      <td>T</td>\n",
       "      <td>0.060519</td>\n",
       "      <td>0.059385</td>\n",
       "      <td>0.100</td>\n",
       "      <td>0.551909</td>\n",
       "      <td>844</td>\n",
       "    </tr>\n",
       "    <tr>\n",
       "      <th>4</th>\n",
       "      <td>chr10</td>\n",
       "      <td>100002300</td>\n",
       "      <td>rs111354488</td>\n",
       "      <td>G</td>\n",
       "      <td>GA</td>\n",
       "      <td>0.060519</td>\n",
       "      <td>0.054836</td>\n",
       "      <td>0.100</td>\n",
       "      <td>0.582498</td>\n",
       "      <td>844</td>\n",
       "    </tr>\n",
       "  </tbody>\n",
       "</table>\n",
       "</div>"
      ],
      "text/plain": [
       "     CHR        POS         RSID EFFECT_ALLELE OTHER_ALLELE  AF_1000G  \\\n",
       "0  chr10  100000235   rs11596870             T            C  0.325648   \n",
       "1  chr10  100000943   rs11190359             A            G  0.112392   \n",
       "2  chr10  100000979   rs11190360             C            T  0.044669   \n",
       "3  chr10  100002012   rs11190362             C            T  0.060519   \n",
       "4  chr10  100002300  rs111354488             G           GA  0.060519   \n",
       "\n",
       "       BETA     SE         P    N  \n",
       "0  0.002590  0.053  0.961330  844  \n",
       "1  0.041480  0.069  0.549756  844  \n",
       "2 -0.018880  0.096  0.844487  844  \n",
       "3  0.059385  0.100  0.551909  844  \n",
       "4  0.054836  0.100  0.582498  844  "
      ]
     },
     "execution_count": 172,
     "metadata": {},
     "output_type": "execute_result"
    }
   ],
   "source": [
    "gwas.head()"
   ]
  },
  {
   "cell_type": "code",
   "execution_count": 3,
   "id": "d1f3472b-6b88-406f-b233-4a6d84c1743f",
   "metadata": {},
   "outputs": [],
   "source": [
    "input = pd.read_csv('AMR_sim_data.csv')"
   ]
  },
  {
   "cell_type": "code",
   "execution_count": 4,
   "id": "fac2d926-8674-4ca8-8a3a-8800de9df1b3",
   "metadata": {},
   "outputs": [],
   "source": [
    "finalDf = input.drop('P-VALUE', axis=1)"
   ]
  },
  {
   "cell_type": "code",
   "execution_count": 6,
   "id": "af5a7480-c728-45f6-91f6-c0aaee3fd516",
   "metadata": {},
   "outputs": [],
   "source": [
    "cigDay = pd.read_csv('Data/CigDay.txt', sep='\\t')\n",
    "drnkWk = pd.read_csv('Data/DrnkWk.txt', sep='\\t')"
   ]
  },
  {
   "cell_type": "code",
   "execution_count": 8,
   "id": "f6ec778e-3300-4e90-9d6a-80509265b800",
   "metadata": {},
   "outputs": [],
   "source": [
    "finalDf['CIGDAY'] = cigDay['P']"
   ]
  },
  {
   "cell_type": "code",
   "execution_count": 9,
   "id": "1979d544-e424-4ca1-a032-13d4079ef287",
   "metadata": {},
   "outputs": [],
   "source": [
    "finalDf['DRNKWK'] = drnkWk['P']"
   ]
  },
  {
   "cell_type": "code",
   "execution_count": 11,
   "id": "fd7336cc-96a5-40e4-b09e-f63717445cce",
   "metadata": {},
   "outputs": [
    {
     "data": {
      "text/html": [
       "<div>\n",
       "<style scoped>\n",
       "    .dataframe tbody tr th:only-of-type {\n",
       "        vertical-align: middle;\n",
       "    }\n",
       "\n",
       "    .dataframe tbody tr th {\n",
       "        vertical-align: top;\n",
       "    }\n",
       "\n",
       "    .dataframe thead th {\n",
       "        text-align: right;\n",
       "    }\n",
       "</style>\n",
       "<table border=\"1\" class=\"dataframe\">\n",
       "  <thead>\n",
       "    <tr style=\"text-align: right;\">\n",
       "      <th></th>\n",
       "      <th>RSID</th>\n",
       "      <th>0</th>\n",
       "      <th>1</th>\n",
       "      <th>2</th>\n",
       "      <th>3</th>\n",
       "      <th>4</th>\n",
       "      <th>5</th>\n",
       "      <th>6</th>\n",
       "      <th>7</th>\n",
       "      <th>8</th>\n",
       "      <th>...</th>\n",
       "      <th>119</th>\n",
       "      <th>120</th>\n",
       "      <th>121</th>\n",
       "      <th>122</th>\n",
       "      <th>123</th>\n",
       "      <th>124</th>\n",
       "      <th>125</th>\n",
       "      <th>126</th>\n",
       "      <th>CIGDAY</th>\n",
       "      <th>DRNKWK</th>\n",
       "    </tr>\n",
       "  </thead>\n",
       "  <tbody>\n",
       "    <tr>\n",
       "      <th>0</th>\n",
       "      <td>rs11596870</td>\n",
       "      <td>0.0</td>\n",
       "      <td>0.0</td>\n",
       "      <td>0.0</td>\n",
       "      <td>0.0</td>\n",
       "      <td>0.0</td>\n",
       "      <td>0.0</td>\n",
       "      <td>0.0</td>\n",
       "      <td>0.0</td>\n",
       "      <td>0.0</td>\n",
       "      <td>...</td>\n",
       "      <td>0.0</td>\n",
       "      <td>0.0</td>\n",
       "      <td>0.0</td>\n",
       "      <td>0.0</td>\n",
       "      <td>0.0</td>\n",
       "      <td>0.0</td>\n",
       "      <td>0.0</td>\n",
       "      <td>0.0</td>\n",
       "      <td>0.473570</td>\n",
       "      <td>0.477360</td>\n",
       "    </tr>\n",
       "    <tr>\n",
       "      <th>1</th>\n",
       "      <td>rs11190359</td>\n",
       "      <td>0.0</td>\n",
       "      <td>1.0</td>\n",
       "      <td>0.0</td>\n",
       "      <td>0.0</td>\n",
       "      <td>0.0</td>\n",
       "      <td>1.0</td>\n",
       "      <td>1.0</td>\n",
       "      <td>1.0</td>\n",
       "      <td>1.0</td>\n",
       "      <td>...</td>\n",
       "      <td>1.0</td>\n",
       "      <td>1.0</td>\n",
       "      <td>0.0</td>\n",
       "      <td>0.0</td>\n",
       "      <td>0.0</td>\n",
       "      <td>1.0</td>\n",
       "      <td>1.0</td>\n",
       "      <td>1.0</td>\n",
       "      <td>0.566140</td>\n",
       "      <td>0.541910</td>\n",
       "    </tr>\n",
       "    <tr>\n",
       "      <th>2</th>\n",
       "      <td>rs11190360</td>\n",
       "      <td>1.0</td>\n",
       "      <td>1.0</td>\n",
       "      <td>1.0</td>\n",
       "      <td>0.0</td>\n",
       "      <td>0.0</td>\n",
       "      <td>0.0</td>\n",
       "      <td>0.0</td>\n",
       "      <td>1.0</td>\n",
       "      <td>0.0</td>\n",
       "      <td>...</td>\n",
       "      <td>0.0</td>\n",
       "      <td>0.0</td>\n",
       "      <td>0.0</td>\n",
       "      <td>0.0</td>\n",
       "      <td>0.0</td>\n",
       "      <td>0.0</td>\n",
       "      <td>0.0</td>\n",
       "      <td>0.0</td>\n",
       "      <td>0.335790</td>\n",
       "      <td>0.690490</td>\n",
       "    </tr>\n",
       "    <tr>\n",
       "      <th>3</th>\n",
       "      <td>rs11190362</td>\n",
       "      <td>0.0</td>\n",
       "      <td>0.0</td>\n",
       "      <td>1.0</td>\n",
       "      <td>0.0</td>\n",
       "      <td>0.0</td>\n",
       "      <td>1.0</td>\n",
       "      <td>0.0</td>\n",
       "      <td>0.0</td>\n",
       "      <td>0.0</td>\n",
       "      <td>...</td>\n",
       "      <td>1.0</td>\n",
       "      <td>0.0</td>\n",
       "      <td>1.0</td>\n",
       "      <td>1.0</td>\n",
       "      <td>0.0</td>\n",
       "      <td>1.0</td>\n",
       "      <td>1.0</td>\n",
       "      <td>1.0</td>\n",
       "      <td>0.874630</td>\n",
       "      <td>0.693410</td>\n",
       "    </tr>\n",
       "    <tr>\n",
       "      <th>4</th>\n",
       "      <td>rs111354488</td>\n",
       "      <td>0.0</td>\n",
       "      <td>0.0</td>\n",
       "      <td>0.0</td>\n",
       "      <td>0.0</td>\n",
       "      <td>0.0</td>\n",
       "      <td>0.0</td>\n",
       "      <td>0.0</td>\n",
       "      <td>0.0</td>\n",
       "      <td>0.0</td>\n",
       "      <td>...</td>\n",
       "      <td>0.0</td>\n",
       "      <td>0.0</td>\n",
       "      <td>0.0</td>\n",
       "      <td>0.0</td>\n",
       "      <td>0.0</td>\n",
       "      <td>0.0</td>\n",
       "      <td>0.0</td>\n",
       "      <td>0.0</td>\n",
       "      <td>0.249560</td>\n",
       "      <td>0.632160</td>\n",
       "    </tr>\n",
       "    <tr>\n",
       "      <th>...</th>\n",
       "      <td>...</td>\n",
       "      <td>...</td>\n",
       "      <td>...</td>\n",
       "      <td>...</td>\n",
       "      <td>...</td>\n",
       "      <td>...</td>\n",
       "      <td>...</td>\n",
       "      <td>...</td>\n",
       "      <td>...</td>\n",
       "      <td>...</td>\n",
       "      <td>...</td>\n",
       "      <td>...</td>\n",
       "      <td>...</td>\n",
       "      <td>...</td>\n",
       "      <td>...</td>\n",
       "      <td>...</td>\n",
       "      <td>...</td>\n",
       "      <td>...</td>\n",
       "      <td>...</td>\n",
       "      <td>...</td>\n",
       "      <td>...</td>\n",
       "    </tr>\n",
       "    <tr>\n",
       "      <th>8052024</th>\n",
       "      <td>rs7853485</td>\n",
       "      <td>0.0</td>\n",
       "      <td>0.0</td>\n",
       "      <td>0.0</td>\n",
       "      <td>0.0</td>\n",
       "      <td>0.0</td>\n",
       "      <td>0.0</td>\n",
       "      <td>0.0</td>\n",
       "      <td>0.0</td>\n",
       "      <td>0.0</td>\n",
       "      <td>...</td>\n",
       "      <td>0.0</td>\n",
       "      <td>0.0</td>\n",
       "      <td>0.0</td>\n",
       "      <td>0.0</td>\n",
       "      <td>0.0</td>\n",
       "      <td>0.0</td>\n",
       "      <td>0.0</td>\n",
       "      <td>0.0</td>\n",
       "      <td>0.818950</td>\n",
       "      <td>0.044767</td>\n",
       "    </tr>\n",
       "    <tr>\n",
       "      <th>8052025</th>\n",
       "      <td>rs75964756</td>\n",
       "      <td>0.0</td>\n",
       "      <td>0.0</td>\n",
       "      <td>0.0</td>\n",
       "      <td>0.0</td>\n",
       "      <td>0.0</td>\n",
       "      <td>0.0</td>\n",
       "      <td>0.0</td>\n",
       "      <td>0.0</td>\n",
       "      <td>0.0</td>\n",
       "      <td>...</td>\n",
       "      <td>0.0</td>\n",
       "      <td>0.0</td>\n",
       "      <td>0.0</td>\n",
       "      <td>0.0</td>\n",
       "      <td>0.0</td>\n",
       "      <td>0.0</td>\n",
       "      <td>0.0</td>\n",
       "      <td>0.0</td>\n",
       "      <td>0.140125</td>\n",
       "      <td>0.520284</td>\n",
       "    </tr>\n",
       "    <tr>\n",
       "      <th>8052026</th>\n",
       "      <td>rs7029048</td>\n",
       "      <td>0.0</td>\n",
       "      <td>0.0</td>\n",
       "      <td>0.0</td>\n",
       "      <td>0.0</td>\n",
       "      <td>0.0</td>\n",
       "      <td>0.0</td>\n",
       "      <td>0.0</td>\n",
       "      <td>0.0</td>\n",
       "      <td>0.0</td>\n",
       "      <td>...</td>\n",
       "      <td>0.0</td>\n",
       "      <td>0.0</td>\n",
       "      <td>0.0</td>\n",
       "      <td>0.0</td>\n",
       "      <td>0.0</td>\n",
       "      <td>0.0</td>\n",
       "      <td>0.0</td>\n",
       "      <td>0.0</td>\n",
       "      <td>0.065368</td>\n",
       "      <td>0.225362</td>\n",
       "    </tr>\n",
       "    <tr>\n",
       "      <th>8052027</th>\n",
       "      <td>rs4495492</td>\n",
       "      <td>0.0</td>\n",
       "      <td>0.0</td>\n",
       "      <td>0.0</td>\n",
       "      <td>0.0</td>\n",
       "      <td>0.0</td>\n",
       "      <td>0.0</td>\n",
       "      <td>0.0</td>\n",
       "      <td>0.0</td>\n",
       "      <td>0.0</td>\n",
       "      <td>...</td>\n",
       "      <td>0.0</td>\n",
       "      <td>0.0</td>\n",
       "      <td>0.0</td>\n",
       "      <td>0.0</td>\n",
       "      <td>0.0</td>\n",
       "      <td>0.0</td>\n",
       "      <td>0.0</td>\n",
       "      <td>0.0</td>\n",
       "      <td>0.794553</td>\n",
       "      <td>0.858598</td>\n",
       "    </tr>\n",
       "    <tr>\n",
       "      <th>8052028</th>\n",
       "      <td>rs1881752</td>\n",
       "      <td>0.0</td>\n",
       "      <td>0.0</td>\n",
       "      <td>0.0</td>\n",
       "      <td>0.0</td>\n",
       "      <td>0.0</td>\n",
       "      <td>0.0</td>\n",
       "      <td>0.0</td>\n",
       "      <td>0.0</td>\n",
       "      <td>0.0</td>\n",
       "      <td>...</td>\n",
       "      <td>0.0</td>\n",
       "      <td>0.0</td>\n",
       "      <td>0.0</td>\n",
       "      <td>0.0</td>\n",
       "      <td>0.0</td>\n",
       "      <td>0.0</td>\n",
       "      <td>0.0</td>\n",
       "      <td>0.0</td>\n",
       "      <td>0.200700</td>\n",
       "      <td>0.054565</td>\n",
       "    </tr>\n",
       "  </tbody>\n",
       "</table>\n",
       "<p>8052029 rows × 130 columns</p>\n",
       "</div>"
      ],
      "text/plain": [
       "                RSID    0    1    2    3    4    5    6    7    8  ...  119  \\\n",
       "0         rs11596870  0.0  0.0  0.0  0.0  0.0  0.0  0.0  0.0  0.0  ...  0.0   \n",
       "1         rs11190359  0.0  1.0  0.0  0.0  0.0  1.0  1.0  1.0  1.0  ...  1.0   \n",
       "2         rs11190360  1.0  1.0  1.0  0.0  0.0  0.0  0.0  1.0  0.0  ...  0.0   \n",
       "3         rs11190362  0.0  0.0  1.0  0.0  0.0  1.0  0.0  0.0  0.0  ...  1.0   \n",
       "4        rs111354488  0.0  0.0  0.0  0.0  0.0  0.0  0.0  0.0  0.0  ...  0.0   \n",
       "...              ...  ...  ...  ...  ...  ...  ...  ...  ...  ...  ...  ...   \n",
       "8052024    rs7853485  0.0  0.0  0.0  0.0  0.0  0.0  0.0  0.0  0.0  ...  0.0   \n",
       "8052025   rs75964756  0.0  0.0  0.0  0.0  0.0  0.0  0.0  0.0  0.0  ...  0.0   \n",
       "8052026    rs7029048  0.0  0.0  0.0  0.0  0.0  0.0  0.0  0.0  0.0  ...  0.0   \n",
       "8052027    rs4495492  0.0  0.0  0.0  0.0  0.0  0.0  0.0  0.0  0.0  ...  0.0   \n",
       "8052028    rs1881752  0.0  0.0  0.0  0.0  0.0  0.0  0.0  0.0  0.0  ...  0.0   \n",
       "\n",
       "         120  121  122  123  124  125  126    CIGDAY    DRNKWK  \n",
       "0        0.0  0.0  0.0  0.0  0.0  0.0  0.0  0.473570  0.477360  \n",
       "1        1.0  0.0  0.0  0.0  1.0  1.0  1.0  0.566140  0.541910  \n",
       "2        0.0  0.0  0.0  0.0  0.0  0.0  0.0  0.335790  0.690490  \n",
       "3        0.0  1.0  1.0  0.0  1.0  1.0  1.0  0.874630  0.693410  \n",
       "4        0.0  0.0  0.0  0.0  0.0  0.0  0.0  0.249560  0.632160  \n",
       "...      ...  ...  ...  ...  ...  ...  ...       ...       ...  \n",
       "8052024  0.0  0.0  0.0  0.0  0.0  0.0  0.0  0.818950  0.044767  \n",
       "8052025  0.0  0.0  0.0  0.0  0.0  0.0  0.0  0.140125  0.520284  \n",
       "8052026  0.0  0.0  0.0  0.0  0.0  0.0  0.0  0.065368  0.225362  \n",
       "8052027  0.0  0.0  0.0  0.0  0.0  0.0  0.0  0.794553  0.858598  \n",
       "8052028  0.0  0.0  0.0  0.0  0.0  0.0  0.0  0.200700  0.054565  \n",
       "\n",
       "[8052029 rows x 130 columns]"
      ]
     },
     "execution_count": 11,
     "metadata": {},
     "output_type": "execute_result"
    }
   ],
   "source": [
    "finalDf.drop('Unnamed: 0', axis=1)"
   ]
  },
  {
   "cell_type": "code",
   "execution_count": 13,
   "id": "414a54b1-76f0-4cef-b212-1048c401546b",
   "metadata": {},
   "outputs": [],
   "source": [
    "finalDf.to_csv('AMR_data.csv')"
   ]
  }
 ],
 "metadata": {
  "kernelspec": {
   "display_name": "Python 3 (ipykernel)",
   "language": "python",
   "name": "python3"
  },
  "language_info": {
   "codemirror_mode": {
    "name": "ipython",
    "version": 3
   },
   "file_extension": ".py",
   "mimetype": "text/x-python",
   "name": "python",
   "nbconvert_exporter": "python",
   "pygments_lexer": "ipython3",
   "version": "3.9.18"
  }
 },
 "nbformat": 4,
 "nbformat_minor": 5
}
